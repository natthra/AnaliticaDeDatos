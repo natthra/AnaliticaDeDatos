{
 "cells": [
  {
   "cell_type": "markdown",
   "metadata": {},
   "source": [
    "# Bucles en Codigo While"
   ]
  },
  {
   "cell_type": "markdown",
   "metadata": {},
   "source": [
    "## Bucle o Ciclo Infinito "
   ]
  },
  {
   "cell_type": "code",
   "execution_count": null,
   "metadata": {},
   "outputs": [],
   "source": [
    "while True:#un bucle infinoto este no se detiene a menos que se detenga manualmente \n",
    "    print('esto trabajando en el bucle infinito')"
   ]
  },
  {
   "cell_type": "code",
   "execution_count": 2,
   "metadata": {},
   "outputs": [
    {
     "name": "stdout",
     "output_type": "stream",
     "text": [
      "1\n",
      "2\n",
      "3\n",
      "4\n",
      "5\n",
      "6\n",
      "7\n",
      "8\n",
      "9\n",
      "10\n",
      "11\n"
     ]
    }
   ],
   "source": [
    "i = 0\n",
    "while i <= 10:\n",
    "    print( i + 1 )\n",
    "    i += 1"
   ]
  },
  {
   "cell_type": "markdown",
   "metadata": {},
   "source": [
    "### Realizar un programa utilizanzo el ciclo anterior, pero se debe solicitar al usuario el numero de veces que el usuario introducira valores, y deben contar cuantos pares y cuantos impares hay. "
   ]
  },
  {
   "cell_type": "code",
   "execution_count": 10,
   "metadata": {},
   "outputs": [
    {
     "name": "stdout",
     "output_type": "stream",
     "text": [
      "Cantidad de números pares: 3\n",
      "Cantidad de números impares: 1\n"
     ]
    }
   ],
   "source": [
    "# Solicitar al usuario el número de valores que introducirá\n",
    "num_valores = int(input(\"¿Cuántos valores vas a introducir? \"))\n",
    "\n",
    "# Inicializar los contadores para pares e impares\n",
    "contador_pares = 0\n",
    "contador_impares = 0\n",
    "\n",
    "# Inicializar el contador del ciclo\n",
    "contador = 1\n",
    "\n",
    "# Ciclo while para solicitar los valores al usuario\n",
    "while contador < num_valores:\n",
    "    valor = int(input(f\"Introduce el valor {contador + 1}: \"))\n",
    "    \n",
    "    # Verificar si el valor es par o impar y actualizar los contadores\n",
    "    if valor % 2 == 0:\n",
    "        contador_pares += 1\n",
    "    else:\n",
    "        contador_impares += 1\n",
    "    \n",
    "    # Incrementar el contador del ciclo\n",
    "    contador += 1\n",
    "\n",
    "# Mostrar el resultado\n",
    "print(f\"Cantidad de números pares: {contador_pares}\")\n",
    "print(f\"Cantidad de números impares: {contador_impares}\")"
   ]
  },
  {
   "cell_type": "code",
   "execution_count": 2,
   "metadata": {},
   "outputs": [
    {
     "ename": "ValueError",
     "evalue": "invalid literal for int() with base 10: ''",
     "output_type": "error",
     "traceback": [
      "\u001b[1;31m---------------------------------------------------------------------------\u001b[0m",
      "\u001b[1;31mValueError\u001b[0m                                Traceback (most recent call last)",
      "Cell \u001b[1;32mIn[2], line 9\u001b[0m\n\u001b[0;32m      7\u001b[0m i \u001b[38;5;241m=\u001b[39m \u001b[38;5;241m0\u001b[39m\n\u001b[0;32m      8\u001b[0m \u001b[38;5;28;01mwhile\u001b[39;00m i \u001b[38;5;241m!=\u001b[39m\u001b[38;5;241m-\u001b[39m\u001b[38;5;241m1\u001b[39m:\n\u001b[1;32m----> 9\u001b[0m    numero\u001b[38;5;241m=\u001b[39m\u001b[38;5;28;43mint\u001b[39;49m\u001b[43m(\u001b[49m\u001b[38;5;28;43minput\u001b[39;49m\u001b[43m(\u001b[49m\u001b[38;5;124;43mf\u001b[39;49m\u001b[38;5;124;43m'\u001b[39;49m\u001b[38;5;124;43mIntroduce el numero: \u001b[39;49m\u001b[38;5;124;43m'\u001b[39;49m\u001b[43m)\u001b[49m\u001b[43m)\u001b[49m\n\u001b[0;32m     11\u001b[0m    \u001b[38;5;28;01mif\u001b[39;00m i \u001b[38;5;241m!=\u001b[39m\u001b[38;5;241m-\u001b[39m\u001b[38;5;241m1\u001b[39m: \n\u001b[0;32m     12\u001b[0m      \u001b[38;5;28;01mif\u001b[39;00m i \u001b[38;5;241m%\u001b[39m \u001b[38;5;241m2\u001b[39m \u001b[38;5;241m==\u001b[39m \u001b[38;5;241m0\u001b[39m:\n",
      "\u001b[1;31mValueError\u001b[0m: invalid literal for int() with base 10: ''"
     ]
    }
   ],
   "source": [
    "# solucion Prof Gallardo\n",
    "numero_de_vueltas = int(input('introduce el numero de vueltas a solicitar'))\n",
    "\n",
    "total_pares = 0\n",
    "total_impares = 0\n",
    "\n",
    "i = 0\n",
    "while i !=-1:\n",
    "   numero=int(input(f'Introduce el numero: '))\n",
    "\n",
    "   if i !=-1: \n",
    "     if i % 2 == 0:\n",
    "        total_pares += 1\n",
    "     else:\n",
    "        total_impares += 1\n",
    "    \n",
    "     i += 1\n",
    "\n",
    "print(f\"Cantidad de números pares: {total_pares}\")\n",
    "print(f\"Cantidad de números impares: {total_impares}\")"
   ]
  },
  {
   "cell_type": "code",
   "execution_count": null,
   "metadata": {},
   "outputs": [],
   "source": [
    "#Metodo 3\n",
    "i = 1\n",
    "while True:\n",
    "    if ( i == 10 ):\n",
    "        print(i)\n",
    "        break\n",
    "    print(i)\n",
    "    i += 1"
   ]
  },
  {
   "cell_type": "code",
   "execution_count": null,
   "metadata": {},
   "outputs": [],
   "source": []
  },
  {
   "cell_type": "markdown",
   "metadata": {},
   "source": [
    "# LAB Adivina el numero Secreto\n",
    "\n",
    "Escenario\n",
    "Un mago junior ha elegido un número secreto. Lo ha escondido en una variable llamada secret_number. Quiere que todos los que ejecutan su programa jueguen el juego Adivina el número secreto, y adivina qué número ha elegido para ellos. ¡Quiénes no adivinen el número quedarán atrapados en un bucle sin fin para siempre! Desafortunadamente, él no sabe cómo completar el código.\n",
    "\n",
    "Tu tarea es ayudar al mago a completar el código en el editor de tal manera que el código:\n",
    "\n",
    "pedirá al usuario que ingrese un número entero;\n",
    "utilizará un bucle while;\n",
    "comprobará si el número ingresado por el usuario es el mismo que el número escogido por el mago. Si el número elegido por el usuario es diferente al número secreto del mago, el usuario debería ver el mensaje \"¡Ja, ja! ¡Estás atrapado en mi bucle!\" y se le solicitará que ingrese un número nuevamente. Si el número ingresado por el usuario coincide con el número escogido por el mago, el número debe imprimirse en la pantalla, y el mago debe decir las siguientes palabras: \"¡Bien hecho, muggle! Eres libre ahora.\"\n",
    "¡El mago está contando contigo! No lo decepciones."
   ]
  },
  {
   "cell_type": "code",
   "execution_count": null,
   "metadata": {},
   "outputs": [],
   "source": [
    "# Número secreto elegido por el mago junior\n",
    "numero = 7  # Puedes cambiar este número al que desees\n",
    "\n",
    "# Solicitar al usuario que ingrese un número entero\n",
    "while True:\n",
    "    user_guess = int(input(\"Adivina el número secreto: \"))\n",
    "    \n",
    "    # Comprobar si el número ingresado es el número secreto\n",
    "    if user_guess == secret_number:\n",
    "        print(f\"¡Bien hecho, muggle! Eres libre ahora. El número secreto es {secret_number}.\")\n",
    "        break\n",
    "    else:\n",
    "        print(\"¡FELICIDADES tu respuesta es totalmente INCORRECTA!\")"
   ]
  },
  {
   "cell_type": "markdown",
   "metadata": {},
   "source": [
    "# Ciclo For "
   ]
  },
  {
   "cell_type": "code",
   "execution_count": null,
   "metadata": {},
   "outputs": [],
   "source": [
    "for i inr range \n",
    "    print"
   ]
  },
  {
   "cell_type": "markdown",
   "metadata": {},
   "source": [
    "Nota:\n",
    "\n",
    "El bucle se ha ejecutado diez veces (es el argumento de la función range())\n",
    "El valor de la última variable de control es 9 (no 10, ya que comienza desde 0 , no desde 1)"
   ]
  },
  {
   "cell_type": "code",
   "execution_count": 6,
   "metadata": {},
   "outputs": [
    {
     "name": "stdout",
     "output_type": "stream",
     "text": [
      "El valor de item es 2\n",
      "El valor de item es 3\n",
      "El valor de item es 4\n",
      "El valor de item es 5\n",
      "El valor de item es 6\n",
      "El valor de item es 7\n"
     ]
    }
   ],
   "source": [
    "for item in range (2,8):\n",
    "    print(f'El valor de item es {item}')"
   ]
  },
  {
   "cell_type": "markdown",
   "metadata": {},
   "source": [
    "En este caso, el primer argumento determina el valor inicial (primero) de la variable de control.\n",
    "\n",
    "El último argumento muestra el primer valor que no se asignará a la variable de control.\n",
    "\n",
    "Nota: la función range() solo acepta enteros como argumentos y genera secuencias de enteros.\n",
    "\n",
    "¿Puedes adivinar la output del programa? Ejecútalo para comprobar si ahora también estabas en lo cierto.\n",
    "\n",
    "El primer valor mostrado es 2 (tomado del primer argumento de range()).\n",
    "\n",
    "El último es 7 (aunque el segundo argumento de range() es 8).\n",
    "\n",
    "la funcion range() tambien puede aceptar tres argumentos "
   ]
  },
  {
   "cell_type": "code",
   "execution_count": 5,
   "metadata": {},
   "outputs": [
    {
     "name": "stdout",
     "output_type": "stream",
     "text": [
      "El valor de x es 2\n",
      "El valor de x es 5\n"
     ]
    }
   ],
   "source": [
    "for x in range(2,8,3):\n",
    "    print(f'El valor de x es {x}')"
   ]
  },
  {
   "cell_type": "markdown",
   "metadata": {},
   "source": [
    "import time\n",
    "\n",
    "# Escribe un bucle for que cuente hasta cinco.\n",
    "    # Cuerpo del bucle: imprime el número de iteración del bucle y la palabra \"Mississippi\".\n",
    "    # Cuerpo del bucle, emplea : time.sleep(1)\n",
    "\n",
    "# Escribe una función print con el mensaje final."
   ]
  },
  {
   "cell_type": "code",
   "execution_count": null,
   "metadata": {},
   "outputs": [],
   "source": []
  },
  {
   "cell_type": "code",
   "execution_count": 7,
   "metadata": {},
   "outputs": [
    {
     "name": "stdout",
     "output_type": "stream",
     "text": [
      "1 Mississippi\n",
      "2 Mississippi\n",
      "3 Mississippi\n",
      "4 Mississippi\n",
      "5 Mississippi\n",
      "¡Listo!\n"
     ]
    }
   ],
   "source": [
    "import time\n",
    "\n",
    "# Escribe un bucle for que cuente hasta cinco.\n",
    "for i in range(1, 6):\n",
    "    # Cuerpo del bucle: imprime el número de iteración del bucle y la palabra \"Mississippi\".\n",
    "    print(f\"{i} Mississippi\")\n",
    "    # Cuerpo del bucle, emplea : time.sleep(1)\n",
    "    time.sleep(1)\n",
    "\n",
    "\n",
    "# Escribe una función print con el mensaje final.\n",
    "print(\"¡Listo!\")"
   ]
  },
  {
   "cell_type": "markdown",
   "metadata": {},
   "source": [
    "# Las sentencias break y continue\n",
    "\n",
    "Estas dos instrucciones son:\n",
    "\n",
    "1. break - sale del bucle inmediatamente, e incondicionalmente termina la operación del bucle; el programa comienza a ejecutar la instrucción más cercana después del cuerpo del bucle.\n",
    "1. continue - se comporta como si el programa hubiera llegado repentinamente al final del cuerpo; el siguiente turno se inicia y la expresión de condición se prueba de inmediato."
   ]
  },
  {
   "cell_type": "code",
   "execution_count": 8,
   "metadata": {},
   "outputs": [
    {
     "name": "stdout",
     "output_type": "stream",
     "text": [
      "el valor de i es 5\n"
     ]
    }
   ],
   "source": [
    "#\n",
    "for i in range(1000):\n",
    "    if i == 5:\n",
    "        break;\n",
    "print(f'el valor de i es {i}')"
   ]
  },
  {
   "cell_type": "code",
   "execution_count": 10,
   "metadata": {},
   "outputs": [
    {
     "name": "stdout",
     "output_type": "stream",
     "text": [
      "La instruccion Break\n",
      "Dentro del Bucle 1\n",
      "Dentro del Bucle 2\n",
      "Fuera del Bucle\n"
     ]
    }
   ],
   "source": [
    "print('La instruccion Break')\n",
    "for i in range(1,6):\n",
    "    if i==3:\n",
    "        break\n",
    "    print(f'Dentro del Bucle {i}')\n",
    "print(f'Fuera del Bucle')"
   ]
  },
  {
   "cell_type": "code",
   "execution_count": 11,
   "metadata": {},
   "outputs": [
    {
     "name": "stdout",
     "output_type": "stream",
     "text": [
      "La instruccion Break\n",
      "Dentro del Bucle 1\n",
      "Dentro del Bucle 2\n",
      "Dentro del Bucle 4\n",
      "Dentro del Bucle 5\n",
      "Fuera del Bucle\n"
     ]
    }
   ],
   "source": [
    "print('La instruccion Break')\n",
    "for i in range(1,6):\n",
    "    if i==3:\n",
    "        continue # este se regresa del \n",
    "    print(f'Dentro del Bucle {i}')\n",
    "print(f'Fuera del Bucle')"
   ]
  },
  {
   "cell_type": "markdown",
   "metadata": {},
   "source": []
  }
 ],
 "metadata": {
  "kernelspec": {
   "display_name": "Python 3",
   "language": "python",
   "name": "python3"
  },
  "language_info": {
   "codemirror_mode": {
    "name": "ipython",
    "version": 3
   },
   "file_extension": ".py",
   "mimetype": "text/x-python",
   "name": "python",
   "nbconvert_exporter": "python",
   "pygments_lexer": "ipython3",
   "version": "3.12.3"
  }
 },
 "nbformat": 4,
 "nbformat_minor": 2
}
