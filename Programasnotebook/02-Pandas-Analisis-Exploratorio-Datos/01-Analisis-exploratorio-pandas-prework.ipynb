{
 "cells": [
  {
   "cell_type": "markdown",
   "metadata": {},
   "source": [
    "# Introducción\n",
    "Con todo lo que hemos aprendido hasta ahora ya estamos listos para empezar a hacer procesamiento de datos formalmente. No sé si te has dado cuenta pero de hecho ya hicimos bastante procesamiento de datos. Todo eso de transformar y filtrar listas usando filter y map. ¡Eso fue procesamiento de datos!\n",
    "\n",
    "Pero si quisiéramos explorar, limpiar y estructurar grandes cantidades de datos con las herramientas que hemos aprendido hasta ahora, la cosa se pondría algo difícil. Es por eso que los científicos de datos han inventado algunas herramientas hechas especialmente para la ciencia de datos. Estas herramientas nos van a facilitar la vida muchísimo.\n",
    "\n",
    "El día de hoy aprenderemos la primera de ellas: Pandas. Veremos cómo usarla como adquirir conjuntos de datos y explorarlos un poco.\n",
    "\n",
    "# Objetivos\n",
    "\n",
    "- Identificar las características básicas de las Series y DataFrames de Pandas.\n",
    "- Leer JSONs usando Pandas.\n",
    "- Utilizar herramientas básicas de exploración de datos."
   ]
  },
  {
   "cell_type": "markdown",
   "metadata": {},
   "source": [
    "# Importación de paquetes\n",
    "\n",
    "Pandas es lo que se llama un paquete de Python. Un paquete es un conjunto de módulos. ¿Qué es un módulo? Es un archivo .py que contiene código de Python que podemos reutilizar en otras secciones de nuestro programa. Un paquete entonces tiene muchos módulos, cada módulo conteniendo código que cualquier persona puede utilizar para extender las capacidades de su programa.\n",
    "\n",
    "Podríamos programar todo siempre desde cero, pero en ese caso todo tomaría muchísimo tiempo y además nunca lograríamos tanta eficiencia. Usar paquetes que han hecho otras personas es muy útil porque nos ahorra tiempo y energía y nos da \"super poderes\" que podemos utilizar en nuestro programa.\n",
    "\n",
    "Para poder utilizar un paquete, lo primero que tenemos que hacer es instalarlo, pero afortunadamente Google Colab ya tiene instalados muchos de los paquetes más importantes de ciencia de datos. Por lo tanto, basta con realizar la importación en nuestro programa para poder utilizar estos paquetes.\n",
    "\n",
    "Abre un Jupyter Notebook, escribe el comando import pandas as pd y corre la celda.\n",
    "\n",
    "¡Listo! Ya podemos acceder a Pandas en nuestro programa. ¿Por qué agregamos lo de as pd? Bueno básicamente le estamos diciendo a Python que queremos poder escribir pd en vez de pandas cada vez que queramos usar el paquete en nuestro programa. Nos ahorra un poco de tecleo y además es un a convención. Todos los científicos de datos usan pd en vez de pandas.\n",
    "\n",
    "¿Y ahora qué? ¿pandas con qué se come o qué?\n",
    "\n",
    "Bueno, primero vamos a platicar de las dos estructuras de datos que pandas nos ofrece que vamos a estar utilizando muy constantemente: Las Series y los DataFrames. Tú ya conoces dos estructuras de datos: listas y diccionarios. Las estructuras de pandas se parecen bastante a éstas pero extienden sus funcionalidades. ¡Vamos a verlas!"
   ]
  },
  {
   "cell_type": "markdown",
   "metadata": {},
   "source": [
    "# Series de Pandas\n",
    "\n",
    "Las Series son parecidas a las listas en que son secuencias ordenadas de 1 dimensión que pueden contener diferentes tipos de valores. ¿1 dimensión? ¿Dónde estamos, en la Matrix? No, no, tranquilo. No es tan esotérico como parece. En geometría, una línea tiene una sola dimensión. Un punto tiene 0 dimensiones, mientras que un plano tiene 2 y un cubo tiene 3:\n",
    "\n",
    "En Python, de las estructuras que conocemos, las listas y ahora las Series tienen 1 una sola dimensión. Eso significa que sólo puedes avanzar hacia adelante y hacia atrás."
   ]
  },
  {
   "cell_type": "markdown",
   "metadata": {},
   "source": [
    "Primero, para crear una Serie tenemos que usar el comando pd.Series. Aquí lo que estamos haciendo es llamar la librería de pandas y luego accediendo a uno de los objetos que ofrece la librería. Para acceder a objetos siempre escribimos el nombre de la librería o módulo (pd), seguido de un punto (pd.), seguido del nombre del objeto (pd.Series).\n",
    "\n",
    "Ahora, para crear uno de estos objetos y poderlo utilizar, necesitamos \"llamarlo\". Esto se hace agregando paréntesis, como cuando llamamos funciones (pd.Series()). A esta creación le llamamos \"instanciar un objeto\". A partir de ahora voy a llamar \"instanciar\" al proceso de creación de un objeto y voy a llamar \"instancia\" al objeto que ya está creado.\n",
    "\n",
    "Por último, tenemos que pasarle algún dato a nuestra Serie para que pueda ser instanciada. El objeto Serie puede recibir una lista de Python para convertirla en una Serie de pandas. Pasémosle entonces una lista:"
   ]
  },
  {
   "cell_type": "code",
   "execution_count": 1,
   "metadata": {},
   "outputs": [],
   "source": [
    "import pandas as pd"
   ]
  },
  {
   "cell_type": "code",
   "execution_count": 2,
   "metadata": {},
   "outputs": [
    {
     "data": {
      "text/plain": [
       "0    3\n",
       "1    7\n",
       "2    5\n",
       "3    8\n",
       "dtype: int64"
      ]
     },
     "execution_count": 2,
     "metadata": {},
     "output_type": "execute_result"
    }
   ],
   "source": [
    "pd.Series([3,7,5,8])"
   ]
  },
  {
   "cell_type": "markdown",
   "metadata": {},
   "source": [
    "Al correr esta celda, podemos ver en el output cómo se ve la Serie que acabamos de crear:\n",
    "\n",
    "¿Por qué hay dos columnas de números? ¿Y qué es eso de dtype: int64?"
   ]
  },
  {
   "cell_type": "markdown",
   "metadata": {},
   "source": [
    "## indices\n",
    "Veamos de cerca las columnas:\n",
    "\n",
    "![Columnas Serie](./images/image1.png)\n",
    "\n",
    "La columna de la derecha es la lista que le pasamos, ¿recuerdas? Es lo mismo sólo que aquí está representada verticalmente. Sigue teniendo una sola dimensión, no te preocupes.\n",
    "\n",
    "La columna de la izquierda es el índice de nuestra Serie. Esto es algo nuevo que las listas de Python no tienen. En una Serie, cada elemento de la Serie tiene un índice asociado. Esto es similar a los diccionarios donde cada valor tiene una llave asociada.\n",
    "\n",
    "Entonces, podríamos pensar una Serie como una especie de mezcla entre ```listas``` y ```diccionarios```. Se parece a las listas en cuanto a que es una secuencia de elementos ordenados en una sola dimensión. Se parece a los diccionarios en que cada elemento tiene un índice asociado. Si accedemos a uno de los índices en nuestra Serie, obtendremos el elemento que está asociado a ese ìndice:"
   ]
  },
  {
   "cell_type": "code",
   "execution_count": 4,
   "metadata": {},
   "outputs": [
    {
     "data": {
      "text/plain": [
       "0    3\n",
       "1    7\n",
       "2    5\n",
       "3    8\n",
       "dtype: int64"
      ]
     },
     "execution_count": 4,
     "metadata": {},
     "output_type": "execute_result"
    }
   ],
   "source": [
    "serie = pd.Series([3,7,5,8])\n",
    "serie"
   ]
  },
  {
   "cell_type": "code",
   "execution_count": 8,
   "metadata": {},
   "outputs": [
    {
     "data": {
      "text/plain": [
       "5"
      ]
     },
     "execution_count": 8,
     "metadata": {},
     "output_type": "execute_result"
    }
   ],
   "source": [
    "serie.loc[2]"
   ]
  },
  {
   "cell_type": "markdown",
   "metadata": {},
   "source": [
    "Bueno, ¡esto es prácticamente igual a cuando accedemos una lista por su ìndice! ¿Cuál es la diferencia? Primero, que tenemos que usar el operador loc para indicarle a la Serie que vamos a acceder a los elementos por el nombre del índice. Otra gran diferencia es que el índice de una Serie puede tomar diferentes valores y diferentes órdenes. Si no le indicamos a la Serie de manera explícita qué índice tomar, la Serie va a asignar una secuencia numérica ascendente que comienza en 0 (exactamente igual a una lista). Pero podemos indicarle distintos ìndices a nuestra Serie de esta forma:"
   ]
  },
  {
   "cell_type": "code",
   "execution_count": 9,
   "metadata": {},
   "outputs": [
    {
     "data": {
      "text/plain": [
       "10    3\n",
       "11    7\n",
       "12    5\n",
       "13    8\n",
       "dtype: int64"
      ]
     },
     "execution_count": 9,
     "metadata": {},
     "output_type": "execute_result"
    }
   ],
   "source": [
    "serie = pd.Series([3,7,5,8], index=[10,11,12,13])\n",
    "serie"
   ]
  },
  {
   "cell_type": "code",
   "execution_count": 14,
   "metadata": {},
   "outputs": [
    {
     "data": {
      "text/plain": [
       "5"
      ]
     },
     "execution_count": 14,
     "metadata": {},
     "output_type": "execute_result"
    }
   ],
   "source": [
    "serie.loc[12]"
   ]
  },
  {
   "cell_type": "markdown",
   "metadata": {},
   "source": [
    "Le asignamos un índice que va desde 10 a 13 y a cada elemento le fue asignado el número que le correspondía. Ahora, para acceder a nuestro número 5 tuve que escribir serie.loc[12], ya que ese es el nuevo índice que le fue asignado.\n",
    "\n",
    "Lo increíble es que también podemos asignarles strings como índices:"
   ]
  },
  {
   "cell_type": "code",
   "execution_count": 16,
   "metadata": {},
   "outputs": [
    {
     "data": {
      "text/plain": [
       "a    3\n",
       "b    7\n",
       "c    5\n",
       "d    8\n",
       "dtype: int64"
      ]
     },
     "execution_count": 16,
     "metadata": {},
     "output_type": "execute_result"
    }
   ],
   "source": [
    "serie = pd.Series([3,7,5,8], index=['a','b','c', 'd'])\n",
    "serie"
   ]
  },
  {
   "cell_type": "code",
   "execution_count": 17,
   "metadata": {},
   "outputs": [
    {
     "data": {
      "text/plain": [
       "5"
      ]
     },
     "execution_count": 17,
     "metadata": {},
     "output_type": "execute_result"
    }
   ],
   "source": [
    "serie.loc['c']"
   ]
  },
  {
   "cell_type": "markdown",
   "metadata": {},
   "source": [
    "## Otras acciones relacionadas con índices\n",
    "\n",
    "Para asignar un valor nuevo a un índice en nuestra Serie basta con indexarlo y asignarle el nuevo valor (justo como sucede con las listas):"
   ]
  },
  {
   "cell_type": "code",
   "execution_count": 19,
   "metadata": {},
   "outputs": [
    {
     "data": {
      "text/plain": [
       "a      3\n",
       "b    100\n",
       "c      5\n",
       "d      8\n",
       "dtype: int64"
      ]
     },
     "execution_count": 19,
     "metadata": {},
     "output_type": "execute_result"
    }
   ],
   "source": [
    "serie.loc['b'] = 100\n",
    "serie"
   ]
  },
  {
   "cell_type": "markdown",
   "metadata": {},
   "source": [
    "Podemos también acceder a múltiples índices al mismo tiempo. Para pedir explícitamente los índices que queremos, le pasamos al operador de indexación ([]) una lista con los índices que queremos:"
   ]
  },
  {
   "cell_type": "code",
   "execution_count": 21,
   "metadata": {},
   "outputs": [
    {
     "data": {
      "text/plain": [
       "b    100\n",
       "c      5\n",
       "dtype: int64"
      ]
     },
     "execution_count": 21,
     "metadata": {},
     "output_type": "execute_result"
    }
   ],
   "source": [
    "serie.loc[['b', 'c']]"
   ]
  },
  {
   "cell_type": "markdown",
   "metadata": {},
   "source": [
    "También podemos usar el operador dos puntos (:) para indicar lo siguiente:"
   ]
  },
  {
   "cell_type": "code",
   "execution_count": 23,
   "metadata": {},
   "outputs": [
    {
     "data": {
      "text/plain": [
       "0     4\n",
       "1     7\n",
       "2     9\n",
       "3     5\n",
       "4     6\n",
       "5     0\n",
       "6     7\n",
       "7     2\n",
       "8     4\n",
       "9     5\n",
       "10    8\n",
       "dtype: int64"
      ]
     },
     "execution_count": 23,
     "metadata": {},
     "output_type": "execute_result"
    }
   ],
   "source": [
    "serie = pd.Series([4,7,9,5,6,0,7,2,4,5,8])\n",
    "serie"
   ]
  },
  {
   "cell_type": "code",
   "execution_count": 24,
   "metadata": {},
   "outputs": [
    {
     "data": {
      "text/plain": [
       "5     0\n",
       "6     7\n",
       "7     2\n",
       "8     4\n",
       "9     5\n",
       "10    8\n",
       "dtype: int64"
      ]
     },
     "execution_count": 24,
     "metadata": {},
     "output_type": "execute_result"
    }
   ],
   "source": [
    "serie.loc[5:]"
   ]
  },
  {
   "cell_type": "markdown",
   "metadata": {},
   "source": [
    "En este primer ejemplo, le pasamos al operador de indexación el índice 5 y después dos puntos (:). Esto significa, \"dame los índices desde el 5 hasta el final\".\n",
    "\n",
    "También podemos pedir \"dame desde el principio hasta el índice 5\" de esta manera:"
   ]
  },
  {
   "cell_type": "code",
   "execution_count": 25,
   "metadata": {},
   "outputs": [
    {
     "data": {
      "text/plain": [
       "0    4\n",
       "1    7\n",
       "2    9\n",
       "3    5\n",
       "4    6\n",
       "5    0\n",
       "dtype: int64"
      ]
     },
     "execution_count": 25,
     "metadata": {},
     "output_type": "execute_result"
    }
   ],
   "source": [
    "serie.loc[:5]"
   ]
  },
  {
   "cell_type": "markdown",
   "metadata": {},
   "source": [
    "Podemos también pedir rangos explícitos:"
   ]
  },
  {
   "cell_type": "code",
   "execution_count": 26,
   "metadata": {},
   "outputs": [
    {
     "data": {
      "text/plain": [
       "3    5\n",
       "4    6\n",
       "5    0\n",
       "6    7\n",
       "7    2\n",
       "dtype: int64"
      ]
     },
     "execution_count": 26,
     "metadata": {},
     "output_type": "execute_result"
    }
   ],
   "source": [
    "serie.loc[3:7]"
   ]
  },
  {
   "cell_type": "markdown",
   "metadata": {},
   "source": [
    "## Tipos de dato\n",
    "\n",
    "Regresemos por un momento a la primera Serie que creamos, pero ahora vamos a fijarnos en la información que viene en la parte inferior de nuestro output:\n",
    "\n",
    "![Tipo Dato](./images/image2.png)\n",
    "\n",
    "¿Qué significa esto? Bueno, pandas tiene también sus tipos de dato, como los que tiene Python (int, float, bool, etc). Los tipos de datos más comunes en pandas son los siguientes:\n",
    "\n",
    "1. object\n",
    "1. int64\n",
    "1. float64\n",
    "1. bool\n",
    "\n",
    "Hay otros, pero esos sólo te los toparas en sesiones más avanzadas.\n",
    "\n",
    "Podemos pensar a int64 y a float64 como los equivalentes de int y float que ya conocemos. Veamos una serie con cada uno de estos tipos de datos. Primero int64:"
   ]
  },
  {
   "cell_type": "code",
   "execution_count": 27,
   "metadata": {},
   "outputs": [
    {
     "data": {
      "text/plain": [
       "0    1\n",
       "1    4\n",
       "2    7\n",
       "3    4\n",
       "dtype: int64"
      ]
     },
     "execution_count": 27,
     "metadata": {},
     "output_type": "execute_result"
    }
   ],
   "source": [
    "int_series = pd.Series([1,4,7,4])\n",
    "int_series"
   ]
  },
  {
   "cell_type": "markdown",
   "metadata": {},
   "source": [
    "Ahora float64:"
   ]
  },
  {
   "cell_type": "code",
   "execution_count": 29,
   "metadata": {},
   "outputs": [
    {
     "data": {
      "text/plain": [
       "0    1.4\n",
       "1    3.5\n",
       "2    7.8\n",
       "3    9.8\n",
       "dtype: float64"
      ]
     },
     "execution_count": 29,
     "metadata": {},
     "output_type": "execute_result"
    }
   ],
   "source": [
    "float_series = pd.Series([1.4,3.5,7.8,9.8])\n",
    "float_series"
   ]
  },
  {
   "cell_type": "markdown",
   "metadata": {},
   "source": [
    "bool es exactamente lo mismo tanto en Python estándar como en pandas, como puedes ver:"
   ]
  },
  {
   "cell_type": "code",
   "execution_count": 30,
   "metadata": {},
   "outputs": [
    {
     "data": {
      "text/plain": [
       "0     True\n",
       "1    False\n",
       "2    False\n",
       "3     True\n",
       "dtype: bool"
      ]
     },
     "execution_count": 30,
     "metadata": {},
     "output_type": "execute_result"
    }
   ],
   "source": [
    "bool_series = pd.Series([True, False, False, True])\n",
    "bool_series"
   ]
  },
  {
   "cell_type": "markdown",
   "metadata": {},
   "source": [
    "object es el tipo de dato que es un poco inusual. Si hacemos una Serie con puras strings, pandas nos indica que el tipo de dato es object:"
   ]
  },
  {
   "cell_type": "code",
   "execution_count": 31,
   "metadata": {},
   "outputs": [
    {
     "data": {
      "text/plain": [
       "0    a\n",
       "1    b\n",
       "2    c\n",
       "3    d\n",
       "dtype: object"
      ]
     },
     "execution_count": 31,
     "metadata": {},
     "output_type": "execute_result"
    }
   ],
   "source": [
    "str_series = pd.Series(['a', 'b', 'c', 'd'])\n",
    "str_series"
   ]
  },
  {
   "cell_type": "markdown",
   "metadata": {},
   "source": [
    "Pero también nos da object si tenemos una Serie con strings y otras cosas. O con una combinación entre números y otro tipo de dato:"
   ]
  },
  {
   "cell_type": "code",
   "execution_count": 33,
   "metadata": {},
   "outputs": [
    {
     "data": {
      "text/plain": [
       "0       a\n",
       "1       1\n",
       "2     3.5\n",
       "3    True\n",
       "dtype: object"
      ]
     },
     "execution_count": 33,
     "metadata": {},
     "output_type": "execute_result"
    }
   ],
   "source": [
    "obj_series = pd.Series(['a',1,3.5, True])\n",
    "obj_series"
   ]
  },
  {
   "cell_type": "code",
   "execution_count": 34,
   "metadata": {},
   "outputs": [
    {
     "data": {
      "text/plain": [
       "0        1\n",
       "1        2\n",
       "2     True\n",
       "3    False\n",
       "dtype: object"
      ]
     },
     "execution_count": 34,
     "metadata": {},
     "output_type": "execute_result"
    }
   ],
   "source": [
    "mixed_series = pd.Series([1,2,True,False])\n",
    "mixed_series"
   ]
  },
  {
   "cell_type": "markdown",
   "metadata": {},
   "source": [
    "Entonces, cuando nos topemos con el tipo de dato object, lo más apropiado es asumir que pueden ser strings o una combinación de tipos de datos."
   ]
  },
  {
   "cell_type": "markdown",
   "metadata": {},
   "source": [
    "# DataFrames\n",
    "\n",
    "A diferencia de las Series, que son estructuras de 1 dimensión. Los DataFrames son estructuras bidimensionales. Esto quiere decir que podemos \"recorrerlas\" en dos direcciones. Una referencia muy sencilla para entender cómo están estructurados los DataFrames son las tablas de MySQL o de Excel. Una tabla es una estructura bidimensional organizada en filas y columnas. Pues bueno, eso es exactamente cómo están organizados los DataFrames: como tablas. Vamos a ver cómo se ve uno:\n",
    "\n",
    "\n",
    "![Dataframe](./images/image3.png)"
   ]
  },
  {
   "cell_type": "markdown",
   "metadata": {},
   "source": [
    "Es una tabla, ¿ves? Cada una de las columnas en un DataFrame es en realidad una Serie. Así que podemos pensar a un DataFrame como un diccionario de Series que comparten el mismo índice. Mira cómo fue que creamos este DataFrame:\n",
    "\n",
    "![Dataframe](./images/image4.png)\n",
    "\n",
    "¡Es un diccionario de listas! Las llaves se convierten en los nombres de las columnas, mientras que las listas contienen los valores que corresponden a cada fila de la tabla. Una vez creado el DataFrame, esas listas son convertidas automáticamente en Series.\n"
   ]
  },
  {
   "cell_type": "markdown",
   "metadata": {},
   "source": [
    "## Índexación\n",
    "\n",
    "Después de crear nuestro DataFrame podemos revisar columnas por separado usando el operador de indexación con el nombre de la columna que queremos ver:\n",
    "\n",
    "![imagen5](./images/image5.png)\n",
    "\n",
    "Nuestra Serie tiene una nueva propiedad llamada Name. Esta propiedad es el nombre de la Serie y cuando esa Serie está en un DataFrame se convierte en el nombre de la columna.\n",
    "\n",
    "También podemos observar más de una columna al mismo tiempo:\n",
    "\n",
    "![imagen6](./images/image6.png)\n",
    "\n",
    "Uso la palabra \"observar\" porque estas Series y DataFrames que obtenemos no son copias del DataFrame original. Sólo son \"ventanas\" para ver y modificar el DataFrame original con más detalle.\n",
    "\n",
    "También podemos pedir combinaciones de filas y columnas usando el operador loc. El operador loc recibe nombres que se encuentren en nuestro índice y regresa la fila que le corresponde a ese índice:\n",
    "\n",
    "![imagen7](./images/image7.png)\n",
    "\n",
    "Podemos también pedir múltiples filas:\n",
    "\n",
    "![imagen8](./images/image8.png)\n",
    "\n",
    "Podemos pasarle un segundo argumento específicando también las columnas que queremos:\n",
    "\n",
    "![imagen9](./images/image9.png)\n",
    "\n",
    "¡También funciona con múltiples filas y columnas! Mira:\n",
    "\n",
    "![imagen10](./images/image10.png)\n",
    "\n"
   ]
  },
  {
   "cell_type": "markdown",
   "metadata": {},
   "source": [
    "## Manipulación de columnas\n",
    "La asignación y creación de columnas nuevas a nuestro DataFrame funciona de una manera muy similar a cómo funcionan los diccionarios. Para asignar nuevos valores a una columna, simplemente accede a la columna y asígnale una Serie con los nuevos valores:\n",
    "\n",
    "![imagen11](./images/image11.png)\n",
    "\n",
    "Para que todo funcione correctamente, la nueva Serie tiene que tener la misma longitud que el número de filas en el DataFrame, y además debe de compartir el mismo índice.\n",
    "\n",
    "Si quiero crear una nueva columna, basta con \"acceder\" a ella y pasarle una nueva Serie:\n",
    "\n",
    "![imagen12](./images/image12.png)\n",
    "\n",
    "En este último ejemplo usé un pequeño truco para evitar tener que volver a escribir el índice del DataFrame al crear la nueva Serie. Usé df.index para obtener el índice del DataFrame y se lo pasé directamente a la Serie. DataFrame.index entonces nos regresa el índice del DataFrame desde donde lo llamemos:\n",
    "\n",
    "![imagen13](./images/image13.png)\n",
    "\n",
    "Por último, vamos a ver como eliminar una columna. Los DataFrames de pandas tienen un método llamado drop, que podemos usar para eliminar columnas (o filas) en nuestro DataFrame. Simplemente llamamos la variable donde tenemos guardado nuestro DataFrame, llamamos el método drop y le pasamos a columns una lista con las columnas que queremos eliminar:\n",
    "\n",
    "![imagen14](./images/image14.png)\n",
    "\n",
    "Como todos estos métodos sólo regresan \"vistas\" de nuestro DataFrame original (como si fueran lupas a través de las cuales vemos nuestro DataFrame desde distintas perspectivas), si queremos obtener un DataFrame nuevo donde las columnas que eliminamos ya no existan, tenemos que asignar el resultado a una nueva variable:\n",
    "\n",
    "![imagen15](./images/image15.png)\n",
    "\n",
    "Nuestro DataFrame original está intacto:\n",
    "\n",
    "![imagen16](./images/image16.png)\n"
   ]
  },
  {
   "cell_type": "markdown",
   "metadata": {},
   "source": [
    "## Adquisición de Datos\n",
    "\n",
    "Al fin ha llegado nuestro momento. Hasta ahora hemos estado usando puros conjunto de datos inventados por mí (sí, aunque no lo crean, esos conjunto de datoss eran inventados). Ha llegado el momento de explorar conjuntos de datos de verdad.\n",
    "\n",
    "El primer paso en todo proyecto de Análisis de Datos es la llamada Adquisición de Datos. La adquisición de datos es el proceso a través del cual nosotros (los Análistas de datos) obtenemos datos para procesarlos, analizarlos y visualizarlos.\n",
    "\n",
    "Hay veces que los conjuntos de datos que queremos o necesitamos no existen. En estos casos toca salir al mundo (o al Internet) a hacer una recolección de datos. Esto puede suceder a través de experimentos científicos, encuestas, medición de fenómenos, recolección de datos de uso de aplicaciones, web scraping, etc. En este módulo no vamos a aprender cómo hacer esto. Vamos a asumir que el conjuntos de datos que queremos ya existe y está esperándonos en alguna parte.\n",
    "\n",
    "Ahora, ¿de dónde podemos conseguir estos conjuntos de datos? Los conjuntos de datos pueden estar en diversos lugares y estar almacenados en diversos formatos.\n",
    "\n",
    "Los formatos más comunes son los siguientes:\n",
    "\n",
    "1. JSON\n",
    "2. CSV\n",
    "\n",
    "Los datos pueden estar guardados en formato JSON en un archivo .json, o en formato CSV en un archivo .csv. Muchas veces obtenemos estos archivos de plataformas como [Kaggle](https://www.kaggle.com/), que es uno de los repositorios de conjuntos de datos más importantes del mundo (así como una plataforma de aprendizaje y profesionalización para científicos de datos). En estas plataformas, basta con descargar los archivos y utilizarlos en nuestro programa.\n",
    "\n",
    "\n",
    "\n"
   ]
  },
  {
   "cell_type": "markdown",
   "metadata": {},
   "source": [
    "### Lectura de JSONs\n",
    "\n",
    "Vamos a empezar aprendiendo a leer un archivo JSON usando pandas. El primer paso hubiera sido ir a una plataforma y descargar este archivo. Ese paso lo he hecho por ustedes, pero si quieren saber de dónde conseguí el conjunto de datos que vamos a usar, pueden seguir este [link](https://www.kaggle.com/datasets/shrutimehta/zomato-restaurants-data).\n",
    "\n",
    "El conjunto de datos que vamos a usar ha sido pre-procesado por mí para que sea adecuado para esta sesión. Entonces, ¿qué tenemos que hacer? El primer paso es importar nuestra librería pandas y una librería de Python para manejar formato JSON:\n",
    "\n",
    "![imagen17](./images/image17.png)\n",
    "\n",
    "Ahora, primero tenemos que leer el archivo antes de pasárselo a pandas. Esto se hace con el siguiente código:\n",
    "\n",
    "![imagen18](./images/image18.png)\n"
   ]
  },
  {
   "cell_type": "code",
   "execution_count": 3,
   "metadata": {},
   "outputs": [],
   "source": [
    "import pandas as pd"
   ]
  },
  {
   "cell_type": "code",
   "execution_count": 4,
   "metadata": {},
   "outputs": [],
   "source": [
    "import json"
   ]
  },
  {
   "cell_type": "code",
   "execution_count": 9,
   "metadata": {},
   "outputs": [],
   "source": [
    "f = open('../../data/zomato_reviews-clean.json', 'r')\n",
    "json_data = json.load(f)"
   ]
  },
  {
   "cell_type": "code",
   "execution_count": 10,
   "metadata": {},
   "outputs": [],
   "source": [
    "f.close()"
   ]
  },
  {
   "cell_type": "code",
   "execution_count": 11,
   "metadata": {},
   "outputs": [
    {
     "data": {
      "text/html": [
       "<div>\n",
       "<style scoped>\n",
       "    .dataframe tbody tr th:only-of-type {\n",
       "        vertical-align: middle;\n",
       "    }\n",
       "\n",
       "    .dataframe tbody tr th {\n",
       "        vertical-align: top;\n",
       "    }\n",
       "\n",
       "    .dataframe thead th {\n",
       "        text-align: right;\n",
       "    }\n",
       "</style>\n",
       "<table border=\"1\" class=\"dataframe\">\n",
       "  <thead>\n",
       "    <tr style=\"text-align: right;\">\n",
       "      <th></th>\n",
       "      <th>has_online_delivery</th>\n",
       "      <th>price_range</th>\n",
       "      <th>currency</th>\n",
       "      <th>name</th>\n",
       "      <th>cuisines</th>\n",
       "      <th>location.address</th>\n",
       "      <th>location.city</th>\n",
       "      <th>user_rating.rating_text</th>\n",
       "    </tr>\n",
       "  </thead>\n",
       "  <tbody>\n",
       "    <tr>\n",
       "      <th>0</th>\n",
       "      <td>1</td>\n",
       "      <td>3</td>\n",
       "      <td>Rs.</td>\n",
       "      <td>Hauz Khas Social</td>\n",
       "      <td>Continental, American, Asian, North Indian</td>\n",
       "      <td>9-A &amp; 12, Hauz Khas Village, New Delhi</td>\n",
       "      <td>New Delhi</td>\n",
       "      <td>Very Good</td>\n",
       "    </tr>\n",
       "    <tr>\n",
       "      <th>1</th>\n",
       "      <td>0</td>\n",
       "      <td>3</td>\n",
       "      <td>Rs.</td>\n",
       "      <td>Qubitos - The Terrace Cafe</td>\n",
       "      <td>Thai, European, Mexican, North Indian, Chinese...</td>\n",
       "      <td>C-7, Vishal Enclave, Opposite Metro Pillar 417...</td>\n",
       "      <td>New Delhi</td>\n",
       "      <td>Excellent</td>\n",
       "    </tr>\n",
       "    <tr>\n",
       "      <th>2</th>\n",
       "      <td>1</td>\n",
       "      <td>2</td>\n",
       "      <td>Rs.</td>\n",
       "      <td>The Hudson Cafe</td>\n",
       "      <td>Cafe, Italian, Continental, Chinese</td>\n",
       "      <td>2524, 1st Floor, Hudson Lane, Delhi University...</td>\n",
       "      <td>New Delhi</td>\n",
       "      <td>Very Good</td>\n",
       "    </tr>\n",
       "    <tr>\n",
       "      <th>3</th>\n",
       "      <td>0</td>\n",
       "      <td>3</td>\n",
       "      <td>Rs.</td>\n",
       "      <td>Summer House Cafe</td>\n",
       "      <td>Italian, Continental</td>\n",
       "      <td>1st Floor, DDA Shopping Complex, Aurobindo Pla...</td>\n",
       "      <td>New Delhi</td>\n",
       "      <td>Very Good</td>\n",
       "    </tr>\n",
       "    <tr>\n",
       "      <th>4</th>\n",
       "      <td>0</td>\n",
       "      <td>3</td>\n",
       "      <td>Rs.</td>\n",
       "      <td>38 Barracks</td>\n",
       "      <td>North Indian, Italian, Asian, American</td>\n",
       "      <td>M-38, Outer Circle, Connaught Place, New Delhi</td>\n",
       "      <td>New Delhi</td>\n",
       "      <td>Very Good</td>\n",
       "    </tr>\n",
       "    <tr>\n",
       "      <th>...</th>\n",
       "      <td>...</td>\n",
       "      <td>...</td>\n",
       "      <td>...</td>\n",
       "      <td>...</td>\n",
       "      <td>...</td>\n",
       "      <td>...</td>\n",
       "      <td>...</td>\n",
       "      <td>...</td>\n",
       "    </tr>\n",
       "    <tr>\n",
       "      <th>1175</th>\n",
       "      <td>0</td>\n",
       "      <td>3</td>\n",
       "      <td>£</td>\n",
       "      <td>The Boozy Cow</td>\n",
       "      <td>Burger, Grill</td>\n",
       "      <td>17 Frederick Street, New Town, Edinburgh EH2 2EY</td>\n",
       "      <td>Edinburgh</td>\n",
       "      <td>Very Good</td>\n",
       "    </tr>\n",
       "    <tr>\n",
       "      <th>1176</th>\n",
       "      <td>0</td>\n",
       "      <td>3</td>\n",
       "      <td>£</td>\n",
       "      <td>La Favorita</td>\n",
       "      <td>Italian</td>\n",
       "      <td>325-331 Leith Walk, Leith, Edinburgh EH6 8SA</td>\n",
       "      <td>Edinburgh</td>\n",
       "      <td>Excellent</td>\n",
       "    </tr>\n",
       "    <tr>\n",
       "      <th>1177</th>\n",
       "      <td>0</td>\n",
       "      <td>3</td>\n",
       "      <td>£</td>\n",
       "      <td>Roseleaf Bar Cafe</td>\n",
       "      <td>Scottish, Cafe</td>\n",
       "      <td>23-24 Sandport Place, Leith, Edinburgh EH6 6EW</td>\n",
       "      <td>Edinburgh</td>\n",
       "      <td>Excellent</td>\n",
       "    </tr>\n",
       "    <tr>\n",
       "      <th>1178</th>\n",
       "      <td>0</td>\n",
       "      <td>3</td>\n",
       "      <td>£</td>\n",
       "      <td>Civerinos</td>\n",
       "      <td>Pizza, Italian</td>\n",
       "      <td>5 Hunter Square, Royal Mile, Old Town, Edinbur...</td>\n",
       "      <td>Edinburgh</td>\n",
       "      <td>Good</td>\n",
       "    </tr>\n",
       "    <tr>\n",
       "      <th>1179</th>\n",
       "      <td>0</td>\n",
       "      <td>3</td>\n",
       "      <td>£</td>\n",
       "      <td>The Hanging Bat</td>\n",
       "      <td>American</td>\n",
       "      <td>133 Lothian Road, Old Town, Edinburgh EH3 9AD</td>\n",
       "      <td>Edinburgh</td>\n",
       "      <td>Good</td>\n",
       "    </tr>\n",
       "  </tbody>\n",
       "</table>\n",
       "<p>1180 rows × 8 columns</p>\n",
       "</div>"
      ],
      "text/plain": [
       "      has_online_delivery  price_range currency                        name  \\\n",
       "0                       1            3      Rs.            Hauz Khas Social   \n",
       "1                       0            3      Rs.  Qubitos - The Terrace Cafe   \n",
       "2                       1            2      Rs.             The Hudson Cafe   \n",
       "3                       0            3      Rs.           Summer House Cafe   \n",
       "4                       0            3      Rs.                 38 Barracks   \n",
       "...                   ...          ...      ...                         ...   \n",
       "1175                    0            3        £               The Boozy Cow   \n",
       "1176                    0            3        £                 La Favorita   \n",
       "1177                    0            3        £           Roseleaf Bar Cafe   \n",
       "1178                    0            3        £                   Civerinos   \n",
       "1179                    0            3        £             The Hanging Bat   \n",
       "\n",
       "                                               cuisines  \\\n",
       "0            Continental, American, Asian, North Indian   \n",
       "1     Thai, European, Mexican, North Indian, Chinese...   \n",
       "2                   Cafe, Italian, Continental, Chinese   \n",
       "3                                  Italian, Continental   \n",
       "4                North Indian, Italian, Asian, American   \n",
       "...                                                 ...   \n",
       "1175                                      Burger, Grill   \n",
       "1176                                            Italian   \n",
       "1177                                     Scottish, Cafe   \n",
       "1178                                     Pizza, Italian   \n",
       "1179                                           American   \n",
       "\n",
       "                                       location.address location.city  \\\n",
       "0                9-A & 12, Hauz Khas Village, New Delhi     New Delhi   \n",
       "1     C-7, Vishal Enclave, Opposite Metro Pillar 417...     New Delhi   \n",
       "2     2524, 1st Floor, Hudson Lane, Delhi University...     New Delhi   \n",
       "3     1st Floor, DDA Shopping Complex, Aurobindo Pla...     New Delhi   \n",
       "4        M-38, Outer Circle, Connaught Place, New Delhi     New Delhi   \n",
       "...                                                 ...           ...   \n",
       "1175   17 Frederick Street, New Town, Edinburgh EH2 2EY     Edinburgh   \n",
       "1176       325-331 Leith Walk, Leith, Edinburgh EH6 8SA     Edinburgh   \n",
       "1177     23-24 Sandport Place, Leith, Edinburgh EH6 6EW     Edinburgh   \n",
       "1178  5 Hunter Square, Royal Mile, Old Town, Edinbur...     Edinburgh   \n",
       "1179      133 Lothian Road, Old Town, Edinburgh EH3 9AD     Edinburgh   \n",
       "\n",
       "     user_rating.rating_text  \n",
       "0                  Very Good  \n",
       "1                  Excellent  \n",
       "2                  Very Good  \n",
       "3                  Very Good  \n",
       "4                  Very Good  \n",
       "...                      ...  \n",
       "1175               Very Good  \n",
       "1176               Excellent  \n",
       "1177               Excellent  \n",
       "1178                    Good  \n",
       "1179                    Good  \n",
       "\n",
       "[1180 rows x 8 columns]"
      ]
     },
     "execution_count": 11,
     "metadata": {},
     "output_type": "execute_result"
    }
   ],
   "source": [
    "df = pd.DataFrame.from_dict(json_data)\n",
    "df"
   ]
  }
 ],
 "metadata": {
  "kernelspec": {
   "display_name": "Python 3",
   "language": "python",
   "name": "python3"
  },
  "language_info": {
   "codemirror_mode": {
    "name": "ipython",
    "version": 3
   },
   "file_extension": ".py",
   "mimetype": "text/x-python",
   "name": "python",
   "nbconvert_exporter": "python",
   "pygments_lexer": "ipython3",
   "version": "3.12.3"
  }
 },
 "nbformat": 4,
 "nbformat_minor": 2
}
