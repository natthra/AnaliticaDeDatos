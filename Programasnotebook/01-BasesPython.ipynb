{
 "cells": [
  {
   "cell_type": "markdown",
   "metadata": {},
   "source": [
    "# Caracteres de escape"
   ]
  },
  {
   "cell_type": "code",
   "execution_count": 58,
   "metadata": {},
   "outputs": [
    {
     "name": "stdout",
     "output_type": "stream",
     "text": [
      "La witsi witsi araña\n",
      "subio su telaraña\n",
      "La witsi witsi araña subio su telaraña\n"
     ]
    }
   ],
   "source": [
    "print('La witsi witsi araña\\nsubio su telaraña') #\n",
    "print('La witsi witsi araña subio su telaraña')"
   ]
  },
  {
   "cell_type": "code",
   "execution_count": 59,
   "metadata": {},
   "outputs": [
    {
     "name": "stdout",
     "output_type": "stream",
     "text": [
      "La witsi araña\\arañota \n"
     ]
    }
   ],
   "source": [
    "print('La witsi araña\\\\arañota ')"
   ]
  },
  {
   "cell_type": "code",
   "execution_count": 60,
   "metadata": {},
   "outputs": [
    {
     "name": "stdout",
     "output_type": "stream",
     "text": [
      "El resultado es: 10\n"
     ]
    }
   ],
   "source": [
    "x = 10 \n",
    "print(\"El resultado es: \" + str (x)) #"
   ]
  },
  {
   "cell_type": "code",
   "execution_count": 61,
   "metadata": {},
   "outputs": [
    {
     "name": "stdout",
     "output_type": "stream",
     "text": [
      "el valor de x es : 22\n"
     ]
    }
   ],
   "source": [
    "x = 22\n",
    "print(f'el valor de x es : {x}') #string laterales (siempre se pone una f al principio) "
   ]
  },
  {
   "cell_type": "code",
   "execution_count": 62,
   "metadata": {},
   "outputs": [
    {
     "name": "stdout",
     "output_type": "stream",
     "text": [
      "el resultado es: 57.900000000000006\n"
     ]
    }
   ],
   "source": [
    "x = 45.6\n",
    "y = 12.3\n",
    "print('el resultado es: ' + str (x + y))"
   ]
  },
  {
   "cell_type": "code",
   "execution_count": 63,
   "metadata": {},
   "outputs": [
    {
     "name": "stdout",
     "output_type": "stream",
     "text": [
      "el resultado es: 57.900000000000006 \n"
     ]
    }
   ],
   "source": [
    "x = 45.6\n",
    "y = 12.3\n",
    "print(f'el resultado es: {x + y} ')"
   ]
  },
  {
   "cell_type": "code",
   "execution_count": 64,
   "metadata": {},
   "outputs": [
    {
     "name": "stdout",
     "output_type": "stream",
     "text": [
      "57.900000000000006\n",
      "la suma de 45.6 + 12.3 = 57.900000000000006\n",
      "57.9\n",
      "la suma de 45.6+12.3 = 57.9 \n"
     ]
    }
   ],
   "source": [
    "#otras formas de hacer la suma\n",
    "x = 45.6\n",
    "y = 12.3\n",
    "print(str ( x + y ) )\n",
    "print('la suma de ' + str ( x ) + ' + ' + str ( y ) + ' = ' + str ( x + y ) )\n",
    "print(str ( round ( x + y , 2 ) ) )\n",
    "\n",
    "#Utilizando el string literal\n",
    "print(f'la suma de {x}+{y} = {round(x + y , 2)} ') #Para quitarle los decimales uliriza el round\n"
   ]
  },
  {
   "cell_type": "markdown",
   "metadata": {},
   "source": [
    "# Utilizando multiples argumentos  "
   ]
  },
  {
   "cell_type": "code",
   "execution_count": 65,
   "metadata": {},
   "outputs": [
    {
     "name": "stdout",
     "output_type": "stream",
     "text": [
      "La araña me mordio el dedo\n",
      "La araña me mordio mis 20 dedos\n",
      "Ya tenemos hambre\n"
     ]
    }
   ],
   "source": [
    "print( 'La araña' + ' me mordio el dedo')\n",
    "x = 20\n",
    "print('La araña' , 'me mordio', 'mis', x, 'dedos' )\n",
    "print('Ya tenemos' , 'hambre')\n"
   ]
  },
  {
   "cell_type": "markdown",
   "metadata": {},
   "source": [
    "# Argumentos de palabras Clave"
   ]
  },
  {
   "cell_type": "markdown",
   "metadata": {},
   "source": [
    "Python ofrece otro mecanismo para el paso de argumentos, que puede ser útil cuando deseas convencer a la función print() para que cambie un poco su comportamiento.\n",
    "\n",
    "No vamos a explicarlo en profundidad ahora. Planeamos hacerlo cuando hablemos de funciones. Por ahora, simplemente queremos mostrarte cómo funciona. Siéntete libre de usarlo en tus propios programas.\n",
    "\n",
    "El mecanismo se llama argumentos de palabras clave. El nombre proviene del hecho de que el significado de estos argumentos se toma no de su ubicación (posición) sino de la palabra especial (palabra clave) utilizada para identificarlos.\n",
    "\n",
    "La función print() tiene dos argumentos de palabra clave que puedes usar para tus propósitos. El primero se llama end."
   ]
  },
  {
   "cell_type": "code",
   "execution_count": 66,
   "metadata": {},
   "outputs": [
    {
     "name": "stdout",
     "output_type": "stream",
     "text": [
      "Hola Seño\n",
      "\n",
      "Hola Benito\n"
     ]
    }
   ],
   "source": [
    "print('Hola Seño')\n",
    "print()\n",
    "print('Hola Benito')"
   ]
  },
  {
   "cell_type": "code",
   "execution_count": 67,
   "metadata": {},
   "outputs": [
    {
     "name": "stdout",
     "output_type": "stream",
     "text": [
      "Hola como estas Vaca Grande\n",
      "Hola yo soy tu Pitufo\n"
     ]
    }
   ],
   "source": [
    "print('Hola como estas Vaca Grande', end='\\n')\n",
    "print('Hola yo soy tu Pitufo')"
   ]
  },
  {
   "cell_type": "code",
   "execution_count": 68,
   "metadata": {},
   "outputs": [
    {
     "name": "stdout",
     "output_type": "stream",
     "text": [
      "Hola Soy tu Miche con Limon y Sal\n"
     ]
    }
   ],
   "source": [
    "print('Hola Soy tu Miche', end=\" \")\n",
    "print('con Limon y Sal')"
   ]
  },
  {
   "cell_type": "markdown",
   "metadata": {},
   "source": [
    "Para usarlo, es necesario conocer algunas reglas:\n",
    "\n",
    "- Un argumento de palabra clave consta de tres elementos: una palabra clave se identifica el argumento (end aquí); un signo de igual (=); y un valor asignado a ese argumento;\n",
    "- cualquier argumento de palabra clave debe colocarse después del último argumento posicional (esto es muy importante)\n",
    "\n",
    "En nuestro ejemplo, hemos utilizado el argumento de palabra clave end, y lo hemos configurado como cadena que contiene un espacio\n",
    "\n",
    "Como puedes ver, el argumento de palabra clave end determina los caracteres que la función print() envía a la salida una vez que llega al final de sus argumentos posicionales.\n",
    "\n",
    "El comportamiento predeterminado refleja la situación en la que el argumento de palabra clave end se usa implícitamente de la siguiente manera: end=\"\\n\"."
   ]
  },
  {
   "cell_type": "code",
   "execution_count": 69,
   "metadata": {},
   "outputs": [
    {
     "name": "stdout",
     "output_type": "stream",
     "text": [
      "Hola Mundo*estoy aqui\n"
     ]
    }
   ],
   "source": [
    "#el end no puede ir antes del argumendo posicional print(end=\"+\") si lo colocas antes elimina el salto de pagina\n",
    "print('Hola Mundo', end='*')\n",
    "print('estoy aqui')"
   ]
  },
  {
   "cell_type": "code",
   "execution_count": 70,
   "metadata": {},
   "outputs": [
    {
     "name": "stdout",
     "output_type": "stream",
     "text": [
      "Hola-como-estas-campion\n"
     ]
    }
   ],
   "source": [
    "# Palabra clave SEP\n",
    "print('Hola', 'como', 'estas', 'campion', sep='-')"
   ]
  },
  {
   "cell_type": "code",
   "execution_count": 71,
   "metadata": {},
   "outputs": [
    {
     "name": "stdout",
     "output_type": "stream",
     "text": [
      "Hola-como-estas-campion**Soy la  Vaca del corral/"
     ]
    }
   ],
   "source": [
    "print('Hola', 'como', 'estas', 'campion', sep='-', end='**')\n",
    "print('Soy la ', 'Vaca', 'del corral', end='/')"
   ]
  },
  {
   "cell_type": "code",
   "execution_count": 72,
   "metadata": {},
   "outputs": [
    {
     "name": "stdout",
     "output_type": "stream",
     "text": [
      "Hola-como-estas-campion**Soy la /Vaca/del corral\n"
     ]
    }
   ],
   "source": [
    "print('Hola', 'como', 'estas', 'campion', sep='-', end='**')\n",
    "print('Soy la ', 'Vaca', 'del corral', sep='/')"
   ]
  },
  {
   "cell_type": "markdown",
   "metadata": {},
   "source": [
    "# LAB La funcion print() y sus Argumentos"
   ]
  },
  {
   "cell_type": "markdown",
   "metadata": {},
   "source": [
    "Modifica la primera línea de código en el editor, usando las palabras claves reservadas sep y end, para que se obtenga la salida esperada. Emplea dos funciones print() en el editor.\n",
    "\n",
    "No cambies nada en la segunda invocación del print()."
   ]
  },
  {
   "cell_type": "code",
   "execution_count": 73,
   "metadata": {},
   "outputs": [
    {
     "name": "stdout",
     "output_type": "stream",
     "text": [
      "Programming Essentials in\n",
      "Python\n"
     ]
    }
   ],
   "source": [
    "\n",
    "print(\"Programming\",\"Essentials\",\"in\")\n",
    "print(\"Python\")"
   ]
  },
  {
   "cell_type": "markdown",
   "metadata": {},
   "source": [
    "# Salida Esperada"
   ]
  },
  {
   "cell_type": "code",
   "execution_count": null,
   "metadata": {},
   "outputs": [],
   "source": [
    "#Programing***Essentials***in...Python"
   ]
  },
  {
   "cell_type": "code",
   "execution_count": 57,
   "metadata": {},
   "outputs": [
    {
     "name": "stdout",
     "output_type": "stream",
     "text": [
      "Programming***Essentials***in...Python\n"
     ]
    }
   ],
   "source": [
    "print(\"Programming\",\"Essentials\",\"in\", sep='***', end='...')\n",
    "print(\"Python\")"
   ]
  }
 ],
 "metadata": {
  "kernelspec": {
   "display_name": "Python 3",
   "language": "python",
   "name": "python3"
  },
  "language_info": {
   "codemirror_mode": {
    "name": "ipython",
    "version": 3
   },
   "file_extension": ".py",
   "mimetype": "text/x-python",
   "name": "python",
   "nbconvert_exporter": "python",
   "pygments_lexer": "ipython3",
   "version": "3.12.3"
  }
 },
 "nbformat": 4,
 "nbformat_minor": 2
}
