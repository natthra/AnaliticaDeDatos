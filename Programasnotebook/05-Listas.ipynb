{
 "cells": [
  {
   "cell_type": "code",
   "execution_count": 25,
   "metadata": {},
   "outputs": [
    {
     "name": "stdout",
     "output_type": "stream",
     "text": [
      "Mi primer lista en python es [10, True, 14.25, 'Hola', 12]\n",
      "el valor de la posicion 0 es: 10\n",
      "el valor de la posicion 4 es: 12\n",
      "el valor de la posicion 4 es: 12\n",
      "el valor de la posicion 2 es: True\n",
      "el valor de la posicion 0 es: True\n"
     ]
    }
   ],
   "source": [
    "x = [10, True, 14.25, 'Hola', 3*4]\n",
    "print(f\"Mi primer lista en python es {x}\")\n",
    "print(f\"el valor de la posicion 0 es: {x[0]}\")\n",
    "print(f\"el valor de la posicion 4 es: {x[4]}\")\n",
    "print(f\"el valor de la posicion 4 es: {x[-1]}\")\n",
    "print(f\"el valor de la posicion 2 es: {x[1]}\")\n",
    "print(f\"el valor de la posicion 0 es: {x[-4]}\")"
   ]
  },
  {
   "cell_type": "markdown",
   "metadata": {},
   "source": [
    "# Indexacion de Listas\n",
    "vamos a asignar un nuevo valor de 111 al primer elemento de la lista. Lo hacemos de esta manera  "
   ]
  },
  {
   "cell_type": "code",
   "execution_count": 26,
   "metadata": {},
   "outputs": [
    {
     "name": "stdout",
     "output_type": "stream",
     "text": [
      "Contenido de lista: [10, 5, 7, 2, 1]\n"
     ]
    }
   ],
   "source": [
    "number = [10,5,7,2,1]\n",
    "#imprimir el contenido de la lista original \n",
    "print(f'Contenido de lista: {number}')"
   ]
  },
  {
   "cell_type": "code",
   "execution_count": 27,
   "metadata": {},
   "outputs": [
    {
     "name": "stdout",
     "output_type": "stream",
     "text": [
      "Contenido d la lista: [10, 5, 7, 2, 1]\n",
      "el contenido de la lsta es [111, 5, 7, 2, 1]\n"
     ]
    }
   ],
   "source": [
    "# otro Metodo\n",
    "number  = [10, 5,7,2,1]\n",
    "# Imprimir el contenido de la lista original \n",
    "print(f'Contenido d la lista: {number}')\n",
    "#Agregar el valor de la lista \n",
    "number[0]= 111\n",
    "print(f'el contenido de la lsta es {number}')"
   ]
  },
  {
   "cell_type": "markdown",
   "metadata": {},
   "source": [
    "Y ahora queremos copiar el valor del quinto elemento al segundo elemento. ¿'Puedes adivinar como hacerlo?"
   ]
  },
  {
   "cell_type": "code",
   "execution_count": 28,
   "metadata": {},
   "outputs": [
    {
     "name": "stdout",
     "output_type": "stream",
     "text": [
      "La lista original es [111, 5, 7, 2, 1]\n",
      "La lista modificada es [111, 5, 7, 2, 5]\n"
     ]
    }
   ],
   "source": [
    "print(f'La lista original es {number}')\n",
    "number [4] = number [1]\n",
    "print(f'La lista modificada es {number}')"
   ]
  },
  {
   "cell_type": "markdown",
   "metadata": {},
   "source": [
    "El valor dentro de los corchetes que selecciona un elemento de la lista se llama un índice, mientras que la operación de seleccionar un elemento de la lista se conoce como indexación.\n",
    "\n",
    "Vamos a utilizar la función print() para imprimir el contenido de la lista cada vez que realicemos los cambios. Esto nos ayudará a seguir cada paso con más cuidado y ver que sucede después de una modificación de la lista en particular.\n",
    "\n",
    "Nota: todos los índices utilizados hasta ahora son literales. Sus valores se fijan en el tiempo de ejecución, pero cualquier expresión también puede ser un índice. Esto abre muchas posibilidades."
   ]
  },
  {
   "cell_type": "markdown",
   "metadata": {},
   "source": [
    "## Acceso al contenido de las listas\n",
    "\n",
    "Se puede acceder a cada uno de los elementos de la lista por separado. Por ejemplo, se puede imprimir:"
   ]
  },
  {
   "cell_type": "code",
   "execution_count": 29,
   "metadata": {},
   "outputs": [
    {
     "data": {
      "text/plain": [
       "[111, 5, 7, 2, 5]"
      ]
     },
     "execution_count": 29,
     "metadata": {},
     "output_type": "execute_result"
    }
   ],
   "source": [
    "number"
   ]
  },
  {
   "cell_type": "code",
   "execution_count": 30,
   "metadata": {},
   "outputs": [
    {
     "name": "stdout",
     "output_type": "stream",
     "text": [
      "111\n"
     ]
    }
   ],
   "source": [
    "print(number[0])"
   ]
  },
  {
   "cell_type": "markdown",
   "metadata": {},
   "source": [
    "suponiendo que todas las operaciones anteriores se hayan completado con exito, el fragmento enviara 111 a la consola "
   ]
  },
  {
   "cell_type": "code",
   "execution_count": 31,
   "metadata": {},
   "outputs": [
    {
     "name": "stdout",
     "output_type": "stream",
     "text": [
      "Contenido de la lista original:  [10, 5, 7, 2, 1]\n",
      "[111, 5, 7, 2, 1]\n",
      "[111, 5, 7, 2, 1]\n"
     ]
    }
   ],
   "source": [
    "number = [10,5,7,2,1]\n",
    "print(\"Contenido de la lista original: \", number) #imprimiendo el contenido de la lista original.\n",
    "\n",
    "number[0] = 111\n",
    "\n",
    "print(number)\n",
    "\n",
    "number[4] = number[-1]\n",
    "\n",
    "print(number)"
   ]
  },
  {
   "cell_type": "markdown",
   "metadata": {},
   "source": [
    "## Eliminando elementos de una lista\n",
    "\n",
    "Cualquier elemento de la lista puede ser eliminado en cualquier momento - esto se hace con una instrucción llamada del (eliminar). Nota: es una instrucción, no una función.\n",
    "\n",
    "Tienes que apuntar al elemento que quieres eliminar - desaparecerá de la lista y la longitud de la lista se reducirá en uno.\n",
    "\n",
    "Mira el fragmento de abajo. ¿Puedes adivinar qué output producirá? Ejecuta el programa en el editor y comprueba."
   ]
  },
  {
   "cell_type": "code",
   "execution_count": 32,
   "metadata": {},
   "outputs": [
    {
     "data": {
      "text/plain": [
       "[3, 5, 7, 2, 1]"
      ]
     },
     "execution_count": 32,
     "metadata": {},
     "output_type": "execute_result"
    }
   ],
   "source": [
    "number[0] = 3\n",
    "number"
   ]
  },
  {
   "cell_type": "code",
   "execution_count": 33,
   "metadata": {},
   "outputs": [
    {
     "data": {
      "text/plain": [
       "[3, 5, 7, 2]"
      ]
     },
     "execution_count": 33,
     "metadata": {},
     "output_type": "execute_result"
    }
   ],
   "source": [
    "del number[4]\n",
    "number"
   ]
  },
  {
   "cell_type": "code",
   "execution_count": 34,
   "metadata": {},
   "outputs": [],
   "source": [
    "del number #el del con el nombre de la lista elimina por completo los datos "
   ]
  },
  {
   "cell_type": "code",
   "execution_count": 35,
   "metadata": {},
   "outputs": [
    {
     "ename": "NameError",
     "evalue": "name 'number' is not defined",
     "output_type": "error",
     "traceback": [
      "\u001b[1;31m---------------------------------------------------------------------------\u001b[0m",
      "\u001b[1;31mNameError\u001b[0m                                 Traceback (most recent call last)",
      "Cell \u001b[1;32mIn[35], line 1\u001b[0m\n\u001b[1;32m----> 1\u001b[0m \u001b[43mnumber\u001b[49m\n",
      "\u001b[1;31mNameError\u001b[0m: name 'number' is not defined"
     ]
    }
   ],
   "source": [
    "number"
   ]
  },
  {
   "cell_type": "code",
   "execution_count": null,
   "metadata": {},
   "outputs": [],
   "source": [
    "number = [3,5,7,2,111]"
   ]
  },
  {
   "cell_type": "markdown",
   "metadata": {},
   "source": [
    "## Los índices negativos son legales\n",
    "\n",
    "Puede parecer extraño, pero los índices negativos son válidos, y pueden ser muy útiles.\n",
    "\n",
    "Un elemento con un índice igual a -1 es el último en la lista."
   ]
  },
  {
   "cell_type": "code",
   "execution_count": null,
   "metadata": {},
   "outputs": [
    {
     "name": "stdout",
     "output_type": "stream",
     "text": [
      "111\n",
      "2\n",
      "7\n",
      "5\n",
      "3\n"
     ]
    }
   ],
   "source": [
    "print(number[-1])\n",
    "print(number[-2])\n",
    "print(number[-3])\n",
    "print(number[-4])\n",
    "print(number[-5])"
   ]
  },
  {
   "cell_type": "code",
   "execution_count": null,
   "metadata": {},
   "outputs": [],
   "source": [
    "del number[i]"
   ]
  },
  {
   "cell_type": "markdown",
   "metadata": {},
   "source": [
    "# LAB Los fundamentos de las listas\n",
    "\n",
    "Escenario\n",
    "Había una vez un sombrero. El sombrero no contenía conejo, sino una lista de cinco números: 1, 2, 3, 4, y 5.\n",
    "\n",
    "Tu tarea es:\n",
    "\n",
    "1. escribir una línea de código que solicite al usuario que reemplace el número central en la lista con un número entero ingresado por el usuario (Paso 1)\n",
    "2. escribir una línea de código que elimine el último elemento de la lista (Paso 2)\n",
    "1. escribir una línea de código que imprima la longitud de la lista existente (Paso 3).\n",
    "1. ¿Listo para este desafío?\n",
    "\n"
   ]
  },
  {
   "cell_type": "code",
   "execution_count": null,
   "metadata": {},
   "outputs": [],
   "source": [
    "hat_list = [1, 2, 3, 4, 5] # Esta es una lista existente de números ocultos en el sombrero.\n",
    "\n",
    "# Paso 1: escribe una línea de código que solicite al usuario\n",
    "numero = int(input(\"ingresar un numero para reemplazar\")) \n",
    "# reemplazar el número de en medio con un número entero ingresado por el usuario.\n",
    "hat_list[2] = numero\n",
    "# Paso 2: escribe aquí una línea de código que elimine el último elemento de la lista.\n",
    "del hat_list[-1]\n",
    "# Paso 3: escribe aquí una línea de código que imprima la longitud de la lista existente.\n",
    "print(f'La longitud de la lista es {len(hat_list)}')\n",
    "print(hat_list)"
   ]
  },
  {
   "cell_type": "markdown",
   "metadata": {},
   "source": [
    "## Funciones vs métodos\n",
    "Un método es un tipo específico de función - se comporta como una función y se parece a una función, pero difiere en la forma en que actúa y en su estilo de invocación.\n",
    "\n",
    "Una función no pertenece a ningún dato - obtiene datos, puede crear nuevos datos y (generalmente) produce un resultado.\n",
    "\n",
    "Un método hace todas estas cosas, pero también puede cambiar el estado de una entidad seleccionada.\n",
    "\n",
    "Un método es propiedad de los datos para los que trabaja, mientras que una función es propiedad de todo el código.\n",
    "\n",
    "Esto también significa que invocar un método requiere alguna especificación de los datos a partir de los cuales se invoca el método.\n",
    "\n",
    "Puede parecer desconcertante aquí, pero lo trataremos en profundidad cuando profundicemos en la programación orientada a objetos.\n",
    "\n",
    "En general, una invocación de función típica puede tener este aspecto:\n",
    "\n",
    "result = function(arg)\n",
    "\n",
    "La función toma un argumento, hace algo, y devuelve un resultado.\n",
    "\n",
    "Una invocación de un método típico usualmente se ve así:\n",
    "\n",
    "result = data.method(arg)\n",
    "\n",
    "Nota: el nombre del método está precedido por el nombre de los datos que posee el método. A continuación, se agrega un punto, seguido del nombre del método y un par de paréntesis que encierran los argumentos.\n",
    "\n",
    "El método se comportará como una función, pero puede hacer algo más - puede cambiar el estado interno de los datos a partir de los cuales se ha invocado."
   ]
  },
  {
   "cell_type": "code",
   "execution_count": null,
   "metadata": {},
   "outputs": [
    {
     "data": {
      "text/plain": [
       "[3, 5, 7, 2, 111]"
      ]
     },
     "execution_count": 21,
     "metadata": {},
     "output_type": "execute_result"
    }
   ],
   "source": [
    "number"
   ]
  },
  {
   "cell_type": "code",
   "execution_count": null,
   "metadata": {},
   "outputs": [],
   "source": [
    "tam = len(number) # la funcion len \n",
    "tam "
   ]
  },
  {
   "cell_type": "markdown",
   "metadata": {},
   "source": [
    "## Agregando elementos a una lista: append() y insert()\n",
    "\n",
    "Un nuevo elemento puede ser añadido al final de la lista existente:\n",
    "\n",
    "```python\n",
    "list.append(value)\n",
    "\n",
    "```\n",
    "\n",
    "Dicha operación se realiza mediante un método llamado append(). Toma el valor de su argumento y lo coloca al final de la lista que posee el método.\n",
    "\n",
    "La longitud de la lista aumenta en uno.\n",
    "\n",
    "El método insert() es un poco más inteligente - puede agregar un nuevo elemento en cualquier lugar de la lista, no solo al final.\n",
    "\n",
    "```python\n",
    "list.insert(location, value)\n",
    "```\n",
    "\n",
    "Toma dos argumentos:\n",
    "\n",
    "- el primero muestra la ubicación requerida del elemento a insertar; nota: todos los elementos existentes que ocupan ubicaciones a la derecha del nuevo elemento (incluido el que está en la posición indicada) se desplazan a la derecha, para hacer espacio para el nuevo elemento;\n",
    "- el segundo es el elemento a insertar.\n",
    "Observa el código en el editor. Ve como usamos los métodos append() e insert(). Presta atención a lo que sucede después de usar insert(): el primer elemento anterior ahora es el segundo, el segundo el tercero, y así sucesivamente."
   ]
  },
  {
   "cell_type": "code",
   "execution_count": 37,
   "metadata": {},
   "outputs": [
    {
     "data": {
      "text/plain": [
       "['Arcadia', True, 'Agapito', 9, 8, 10.0]"
      ]
     },
     "execution_count": 37,
     "metadata": {},
     "output_type": "execute_result"
    }
   ],
   "source": [
    "lista = ['Arcadia', True, 'Agapito',9,8,10.]\n",
    "lista"
   ]
  },
  {
   "cell_type": "code",
   "execution_count": 38,
   "metadata": {},
   "outputs": [
    {
     "data": {
      "text/plain": [
       "['Arcadia', True, 'Agapito', 9, 8, 10.0, 'Monico']"
      ]
     },
     "execution_count": 38,
     "metadata": {},
     "output_type": "execute_result"
    }
   ],
   "source": [
    "lista.append('Monico')\n",
    "lista"
   ]
  },
  {
   "cell_type": "code",
   "execution_count": 39,
   "metadata": {},
   "outputs": [
    {
     "name": "stdout",
     "output_type": "stream",
     "text": [
      "['Arcadia', True, 'Agapito', 9, 8, 10.0, 'Monico', [1, 2, 3, 4, 5]]\n"
     ]
    }
   ],
   "source": [
    "len(lista)\n",
    "lista.append([1,2,3,4,5])\n",
    "len(lista)\n",
    "print(lista)"
   ]
  },
  {
   "cell_type": "code",
   "execution_count": 40,
   "metadata": {},
   "outputs": [
    {
     "data": {
      "text/plain": [
       "[1, 2, 3, 4, 5]"
      ]
     },
     "execution_count": 40,
     "metadata": {},
     "output_type": "execute_result"
    }
   ],
   "source": [
    "lista[-1]"
   ]
  },
  {
   "cell_type": "code",
   "execution_count": 41,
   "metadata": {},
   "outputs": [
    {
     "data": {
      "text/plain": [
       "[1, 2, 3, 4, 5]"
      ]
     },
     "execution_count": 41,
     "metadata": {},
     "output_type": "execute_result"
    }
   ],
   "source": [
    "n =len(lista) -1\n",
    "lista[n]"
   ]
  },
  {
   "cell_type": "code",
   "execution_count": 42,
   "metadata": {},
   "outputs": [
    {
     "data": {
      "text/plain": [
       "['Arcadia', True, 'Agapito', 9, 8, 10.0, 'Monico', [1, 2, 3, 4, 5]]"
      ]
     },
     "execution_count": 42,
     "metadata": {},
     "output_type": "execute_result"
    }
   ],
   "source": [
    "lista"
   ]
  },
  {
   "cell_type": "code",
   "execution_count": 43,
   "metadata": {},
   "outputs": [
    {
     "data": {
      "text/plain": [
       "3"
      ]
     },
     "execution_count": 43,
     "metadata": {},
     "output_type": "execute_result"
    }
   ],
   "source": [
    "lista[7][2]"
   ]
  },
  {
   "cell_type": "code",
   "execution_count": 44,
   "metadata": {},
   "outputs": [
    {
     "data": {
      "text/plain": [
       "3"
      ]
     },
     "execution_count": 44,
     "metadata": {},
     "output_type": "execute_result"
    }
   ],
   "source": [
    "lista[-1][-3]"
   ]
  },
  {
   "cell_type": "code",
   "execution_count": 45,
   "metadata": {},
   "outputs": [],
   "source": [
    "lista.insert(1,'Isrrael')"
   ]
  },
  {
   "cell_type": "code",
   "execution_count": 46,
   "metadata": {},
   "outputs": [
    {
     "name": "stdout",
     "output_type": "stream",
     "text": [
      "['Arcadia', 'Isrrael', True, 'Agapito', 9, 8, 10.0, 'Monico', [1, 2, 3, 4, 5]]\n"
     ]
    }
   ],
   "source": [
    "print(lista)"
   ]
  },
  {
   "cell_type": "code",
   "execution_count": 47,
   "metadata": {},
   "outputs": [],
   "source": [
    "lista.insert(-1,'Charlie')"
   ]
  },
  {
   "cell_type": "code",
   "execution_count": 48,
   "metadata": {},
   "outputs": [
    {
     "name": "stdout",
     "output_type": "stream",
     "text": [
      "['Arcadia', 'Isrrael', True, 'Agapito', 9, 8, 10.0, 'Monico', 'Charlie', [1, 2, 3, 4, 5]]\n"
     ]
    }
   ],
   "source": [
    "print(lista)"
   ]
  },
  {
   "cell_type": "code",
   "execution_count": 49,
   "metadata": {},
   "outputs": [
    {
     "name": "stdout",
     "output_type": "stream",
     "text": [
      "[1, 2, 3, 4, 5, 6, 7, 8, 9, 10]\n"
     ]
    }
   ],
   "source": [
    "lista2=[]\n",
    "\n",
    "for i  in range(10):\n",
    "    lista2.append(i + 1)\n",
    "print(lista2)"
   ]
  },
  {
   "cell_type": "code",
   "execution_count": 50,
   "metadata": {},
   "outputs": [
    {
     "name": "stdout",
     "output_type": "stream",
     "text": [
      "[10, 9, 8, 7, 6, 5, 4, 3, 2, 1]\n"
     ]
    }
   ],
   "source": [
    "lista2 = []\n",
    "for  i in range(10):\n",
    "    lista2.insert(0, i+1)\n",
    "\n",
    "print(lista2)"
   ]
  },
  {
   "cell_type": "markdown",
   "metadata": {},
   "source": [
    "# Haciendo uso de las Listas "
   ]
  },
  {
   "cell_type": "code",
   "execution_count": 51,
   "metadata": {},
   "outputs": [
    {
     "name": "stdout",
     "output_type": "stream",
     "text": [
      "La lista es: [4, 5] y la suma de los valores es: 9\n"
     ]
    }
   ],
   "source": [
    "# Sumar los valores que estan contenidos en una lista \n",
    "\n",
    "# 1.Solicitar cuantos numeros van a hacer ingresados a la lista\n",
    "n= int(input('Introduce el total de los valores para la lista'))\n",
    "# 2.Llenar la lista con valores numericos introducidos por el usuario\n",
    "numeros = []\n",
    "\n",
    "for i in range(n):\n",
    "    n = int(input(f'Introduce el valor numero [i+1]'))\n",
    "    numeros.append(n)\n",
    "# 3.Sumar los datos que estan en la lista\n",
    "suma = 0\n",
    "for i in numeros:\n",
    "    suma+=i\n",
    "# 4.Imprimir \n",
    "print(f'La lista es: {numeros} y la suma de los valores es: {suma}')"
   ]
  },
  {
   "cell_type": "code",
   "execution_count": 52,
   "metadata": {},
   "outputs": [
    {
     "name": "stdout",
     "output_type": "stream",
     "text": [
      " La lista es: [3, 4] y la suma de los valores es : 7\n"
     ]
    }
   ],
   "source": [
    "# sumar los valores que estan contenidos en una lista \n",
    "\n",
    "\n",
    "# Solicitar cuentos numero van a ser ingresados a la lista \n",
    "n = int(input('Introduce el valor total de valores para la lista '))\n",
    "#2. Llenar la lista con valores numericos introducidos pr el usuario\n",
    "numero =[]\n",
    "for i in range(n):\n",
    "    n = int(input(f'Introduce le valor numero {i+1}'))\n",
    "    numero.append(n)\n",
    "#3. Sumar los datosque estan en la lista \n",
    "suma = 0 \n",
    "for i in numero:\n",
    "    suma +=i\n",
    "# imprimir la lista y su suma \n",
    "print(f' La lista es: {numero} y la suma de los valores es : {suma}')"
   ]
  },
  {
   "cell_type": "code",
   "execution_count": 53,
   "metadata": {},
   "outputs": [],
   "source": [
    "def solicitarTamanio():\n",
    "    n = int(input('Intriduce el total de los valores para la lista: '))\n",
    "    return n"
   ]
  },
  {
   "cell_type": "code",
   "execution_count": 54,
   "metadata": {},
   "outputs": [],
   "source": [
    "def llenarvalores(numeros, n):\n",
    "    for i in range(n):\n",
    "        n = int(input(f'Introduce el valor numero {i+1}'))\n",
    "        numeros.append(n)"
   ]
  },
  {
   "cell_type": "code",
   "execution_count": 55,
   "metadata": {},
   "outputs": [],
   "source": [
    "def sumar(numero):\n",
    "    suma = 0\n",
    "    for i in numeros:\n",
    "        suma+=i\n",
    "    return suma"
   ]
  },
  {
   "cell_type": "code",
   "execution_count": 56,
   "metadata": {},
   "outputs": [],
   "source": [
    "def imprimir(numero, suma):\n",
    "    print(f'La lista es:{numero} y la suma de los valores es: {suma}')"
   ]
  },
  {
   "cell_type": "code",
   "execution_count": 57,
   "metadata": {},
   "outputs": [
    {
     "ename": "AttributeError",
     "evalue": "'list' object has no attribute 'suma'",
     "output_type": "error",
     "traceback": [
      "\u001b[1;31m---------------------------------------------------------------------------\u001b[0m",
      "\u001b[1;31mAttributeError\u001b[0m                            Traceback (most recent call last)",
      "Cell \u001b[1;32mIn[57], line 5\u001b[0m\n\u001b[0;32m      3\u001b[0m llenarvalores(lista3,n)\n\u001b[0;32m      4\u001b[0m suma \u001b[38;5;241m=\u001b[39m sumar(lista3)\n\u001b[1;32m----> 5\u001b[0m imprimir(\u001b[43mlista3\u001b[49m\u001b[38;5;241;43m.\u001b[39;49m\u001b[43msuma\u001b[49m)\n",
      "\u001b[1;31mAttributeError\u001b[0m: 'list' object has no attribute 'suma'"
     ]
    }
   ],
   "source": [
    "n = solicitarTamanio()\n",
    "lista3= []\n",
    "llenarvalores(lista3,n)\n",
    "suma = sumar(lista3)\n",
    "imprimir(lista3.suma)"
   ]
  },
  {
   "cell_type": "markdown",
   "metadata": {},
   "source": [
    "# Listas en Accion\n",
    "Imagina que necesitas reorganizar los elementos de una lista, es decir, revertir el orden de los elementos: el primero y el quinto, así como el segundo y cuarto elementos serán intercambiados. El tercero permanecerá intacto.\n",
    "\n",
    "Pregunta: ¿cómo se pueden intercambiar los valores de dos variables?\n",
    "\n",
    "Echa un vistazo al fragmento:\n",
    "\n",
    "```python\n",
    "variable_1 = 1\n",
    "variable_2 = 2\n",
    "\n",
    "variable_2 = variable_1\n",
    "variable_1 = variable_2\n",
    "```\n",
    "\n",
    "Si haces algo como esto, perderás el valor previamente almacenado en variable_2. Cambiar el orden de las tareas no ayudará. Necesitas una tercera variable que sirva como almacenamiento auxiliar."
   ]
  },
  {
   "cell_type": "code",
   "execution_count": null,
   "metadata": {},
   "outputs": [
    {
     "name": "stdout",
     "output_type": "stream",
     "text": [
      "1 1\n"
     ]
    }
   ],
   "source": [
    "variable1 = 1\n",
    "variable2 = 2\n",
    "\n",
    "variable2 = variable1\n",
    "variable1 = variable2\n",
    "\n",
    "print(variable1,variable2)"
   ]
  },
  {
   "cell_type": "code",
   "execution_count": null,
   "metadata": {},
   "outputs": [
    {
     "name": "stdout",
     "output_type": "stream",
     "text": [
      "2 1\n"
     ]
    }
   ],
   "source": [
    "variable1 = 1\n",
    "variable2 = 2\n",
    "\n",
    "aux = variable2\n",
    "variable2 = variable1\n",
    "variable1 = aux\n",
    "\n",
    "print(variable1, variable2)"
   ]
  },
  {
   "cell_type": "code",
   "execution_count": null,
   "metadata": {},
   "outputs": [
    {
     "name": "stdout",
     "output_type": "stream",
     "text": [
      "2 1\n"
     ]
    }
   ],
   "source": [
    "variable1 = 1\n",
    "variable2 = 2\n",
    "\n",
    "variable1, variable2 = variable2, variable1\n",
    "\n",
    "print(variable1, variable2)"
   ]
  },
  {
   "cell_type": "code",
   "execution_count": 59,
   "metadata": {},
   "outputs": [
    {
     "name": "stdout",
     "output_type": "stream",
     "text": [
      "[5, 3, 8, 1, 10]\n"
     ]
    }
   ],
   "source": [
    "# Revertir el orden de la lista\n",
    "\n",
    "milista = [10,1,8,3,5]\n",
    "\n",
    "milista[0], milista[4] = milista[4],milista[0]\n",
    "milista[1], milista[3] = milista[3],milista[1]\n",
    "\n",
    "print(milista)\n"
   ]
  },
  {
   "cell_type": "markdown",
   "metadata": {},
   "source": [
    "## LAB   Los fundamentos de las listas: los Beatles\n",
    "\n",
    "\n",
    "\n",
    "Los Beatles fueron uno de los grupos de música más populares de la década de 1960 y la banda más vendida en la historia. Algunas personas los consideran el acto más influyente de la era del rock. De hecho, se incluyeron en la compilación de la revista Time de las 100 personas más influyentes del siglo XX.\n",
    "\n",
    "La banda sufrió muchos cambios de formación, que culminaron en 1962 con la formación de John Lennon, Paul McCartney, George Harrison y Richard Starkey (mejor conocido como Ringo Starr).\n",
    "\n",
    "\n",
    "Escribe un programa que refleje estos cambios y le permita practicar con el concepto de listas. Tu tarea es:\n",
    "\n",
    "- paso 1: crea una lista vacía llamada beatles;\n",
    "- paso 2: emplea el método append() para agregar los siguientes miembros de la banda a la lista: John Lennon, Paul McCartney y George Harrison;\n",
    "- paso 3: emplea el buclefor y el append() para pedirle al usuario que agregue los siguientes miembros de la banda a la lista: Stu Sutcliffe, y Pete Best;\n",
    "- paso 4: usa la instrucción del para eliminar a Stu Sutcliffe y Pete Best de la lista;\n",
    "- paso 5: usa el método insert() para agregar a Ringo Starr al principio de la lista.\n",
    "\n",
    "Por cierto, ¿eres fan de los Beatles? (Los Beatles son una de las bandas favoritas de Greg. Pero espera...¿Quién es Greg?)"
   ]
  },
  {
   "cell_type": "code",
   "execution_count": null,
   "metadata": {},
   "outputs": [],
   "source": [
    "# crear un lista vacia \n",
    "beatles = []\n",
    "print(\"Paso 1:\", beatles)\n",
    "# Emplear el metodo append() para agregar los siguientes mienbros de la banda a la lista: John Lennon, Paul McCartney u George Harrison\n",
    "beatles.append(\"John Lennon\")\n",
    "beatles.append(\"Paul McCartney\")\n",
    "beatles.append(\"George Harrison\")\n",
    "print(\"Paso 2:\", beatles)\n",
    "# emplear el bucle for y el append() para pedirle que agregue a los siguientes \n",
    "for i in range (2)\n",
    "    \n",
    "    beatles.append(nvomiembro)\n",
    "\n",
    "print(\"Paso 3:\", beatles)\n",
    "# usar la intruccion del para eliminar a Stu Sutcliffe\n",
    "del \n",
    "\n",
    "\n",
    "# paso 5\n",
    "\n",
    "\n",
    "\n",
    "# probando la longitud de la lista\n"
   ]
  }
 ],
 "metadata": {
  "kernelspec": {
   "display_name": "Python 3",
   "language": "python",
   "name": "python3"
  },
  "language_info": {
   "codemirror_mode": {
    "name": "ipython",
    "version": 3
   },
   "file_extension": ".py",
   "mimetype": "text/x-python",
   "name": "python",
   "nbconvert_exporter": "python",
   "pygments_lexer": "ipython3",
   "version": "3.12.3"
  }
 },
 "nbformat": 4,
 "nbformat_minor": 2
}
