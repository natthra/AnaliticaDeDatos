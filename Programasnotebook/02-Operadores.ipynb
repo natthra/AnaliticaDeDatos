{
 "cells": [
  {
   "cell_type": "markdown",
   "metadata": {},
   "source": [
    "# Operadores\n",
    "\n",
    "# Operadores aritmeticos\n"
   ]
  },
  {
   "cell_type": "markdown",
   "metadata": {},
   "source": [
    "|operador|Descirpcion|\n",
    "|--|--|\n",
    "|+|Suma|\n",
    "|-|Resta|\n",
    "|*|Multiplicacion|\n",
    "|/|Division|\n",
    "|//|Division Entera|\n",
    "|**|Potencia|"
   ]
  },
  {
   "cell_type": "markdown",
   "metadata": {},
   "source": [
    "# Ejercicios con Operadores\n",
    "\n",
    "Usando uno de los operadores de comparación en Python, escribe un programa simple de dos líneas que tome el parámetro n como entrada, que es un entero, e imprime False si n es menor que 100, y True if n es mayor o igual que 100.\n",
    "No debes crear ningún bloque if (hablaremos de ellos muy pronto). Prueba tu código usando los datos que te proporcionamos."
   ]
  }
 ],
 "metadata": {
  "language_info": {
   "name": "python"
  }
 },
 "nbformat": 4,
 "nbformat_minor": 2
}
