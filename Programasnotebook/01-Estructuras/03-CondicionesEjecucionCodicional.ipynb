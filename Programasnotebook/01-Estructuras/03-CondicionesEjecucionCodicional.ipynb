{
 "cells": [
  {
   "cell_type": "markdown",
   "metadata": {},
   "source": [
    "# Condiciones y Ejecucion Condicional\n",
    "## Ejemplo 1"
   ]
  },
  {
   "cell_type": "code",
   "execution_count": 5,
   "metadata": {},
   "outputs": [
    {
     "name": "stdout",
     "output_type": "stream",
     "text": [
      "el numero mayor es 78\n"
     ]
    }
   ],
   "source": [
    "\n",
    "# se leen dos numeros \n",
    "\n",
    "numero1 = int(input(\"ingresa el primer numero\"))\n",
    "numero2 = int(input(\"ingresa el segundo numero\"))\n",
    "\n",
    "# elegir el numero mas grande \n",
    "if numero1 > numero2:\n",
    "\n",
    "    numero_mayor = numero1\n",
    "    print(f'el numero mayor es {numero_mayor}')\n",
    "else:\n",
    "    numero_mayor = numero2\n",
    "    print(f'el numero mayor es {numero_mayor}')\n",
    "\n"
   ]
  },
  {
   "cell_type": "markdown",
   "metadata": {},
   "source": [
    "## Ejemplo 2\n",
    "\n",
    "Encontrar el numero mas grande de tres"
   ]
  },
  {
   "cell_type": "code",
   "execution_count": 8,
   "metadata": {},
   "outputs": [
    {
     "name": "stdout",
     "output_type": "stream",
     "text": [
      "El numero mayor es 10\n"
     ]
    }
   ],
   "source": [
    "# solicitar  tres numeros enteros \n",
    "n1 = int(input('Escribe el primer numero: '))\n",
    "n2 = int(input('Escribe el primer numero: '))\n",
    "n3 = int(input('Escribe el primer numero: '))\n",
    "\n",
    "#Primero determinamos el numero mayor \n",
    "numero_mayor = n1\n",
    "\n",
    "if n2 > numero_mayor:\n",
    "    numero_mayor = n2\n",
    "elif n3 > numero_mayor:\n",
    "    numero_mayor = n3\n",
    "\n",
    "print(f'El numero mayor es {numero_mayor}')"
   ]
  },
  {
   "cell_type": "code",
   "execution_count": 9,
   "metadata": {},
   "outputs": [
    {
     "name": "stdout",
     "output_type": "stream",
     "text": [
      "El numero mayor es 10\n"
     ]
    }
   ],
   "source": [
    "#segundo metodo \n",
    "# solicitar  tres numeros enteros \n",
    "n1 = int(input('Escribe el primer numero: '))\n",
    "n2 = int(input('Escribe el primer numero: '))\n",
    "n3 = int(input('Escribe el primer numero: '))\n",
    "\n",
    "#Primero determinamos el numero mayor \n",
    "numero_mayor = n1\n",
    "\n",
    "if n1 > n2 and n1>n3:\n",
    "    numero_mayor = n1\n",
    "elif n2 > n3 and n2 > n3:\n",
    "    numero_mayor = n2\n",
    "else:\n",
    "    numero_mayor = n3 \n",
    "\n",
    "print(f'El numero mayor es {numero_mayor}')"
   ]
  },
  {
   "cell_type": "code",
   "execution_count": 10,
   "metadata": {},
   "outputs": [
    {
     "name": "stdout",
     "output_type": "stream",
     "text": [
      "El numero mayor es 10\n"
     ]
    }
   ],
   "source": [
    "#tercer metodo\n",
    "# solicitar  tres numeros enteros \n",
    "n1 = int(input('Escribe el primer numero: '))\n",
    "n2 = int(input('Escribe el primer numero: '))\n",
    "n3 = int(input('Escribe el primer numero: '))\n",
    "\n",
    "#Primero determinamos el numero mayor \n",
    "numero_mayor = n1\n",
    "\n",
    "if n2 > numero_mayor:\n",
    "    numero_mayor = n2\n",
    "elif n3 > numero_mayor:\n",
    "    numero_mayor = n3 \n",
    "    \n",
    "print(f'El numero mayor es {numero_mayor}')\n"
   ]
  },
  {
   "cell_type": "code",
   "execution_count": 13,
   "metadata": {},
   "outputs": [
    {
     "name": "stdout",
     "output_type": "stream",
     "text": [
      "¡Espatifilo!, ¡No Espatifilio!\n"
     ]
    }
   ],
   "source": [
    "# Solicitar la palabra \n",
    "entrada = input(\"Ingresa la palabra: \")\n",
    "\n",
    "if entrada == \"ESPATIFILIO\":\n",
    "    mensaje =\"Si - ¡El Espatifilo! es la mejor planta de todos los tiempos!\"\n",
    "elif entrada == \"espatifilo\":\n",
    "    mensaje =\"No, ¡quiero un gran Espatifilo!\"\n",
    "else:\n",
    "    mensaje = f\"¡Espatifilo!, ¡No {entrada}!\"\n",
    "\n",
    "print(mensaje)"
   ]
  }
 ],
 "metadata": {
  "kernelspec": {
   "display_name": "Python 3",
   "language": "python",
   "name": "python3"
  },
  "language_info": {
   "codemirror_mode": {
    "name": "ipython",
    "version": 3
   },
   "file_extension": ".py",
   "mimetype": "text/x-python",
   "name": "python",
   "nbconvert_exporter": "python",
   "pygments_lexer": "ipython3",
   "version": "3.12.3"
  }
 },
 "nbformat": 4,
 "nbformat_minor": 2
}
