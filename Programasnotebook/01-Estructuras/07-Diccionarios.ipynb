{
 "cells": [
  {
   "cell_type": "code",
   "execution_count": 3,
   "metadata": {},
   "outputs": [
    {
     "name": "stdout",
     "output_type": "stream",
     "text": [
      "Cat->gato\n",
      "LeonNo esta en el diccionario\n",
      "CaballoNo esta en el diccionario\n"
     ]
    }
   ],
   "source": [
    "dictionary = {'Cat': 'gato', 'Perro': 'chien', 'caballo': 'Cheval'}\n",
    "words = {'Cat', 'Leon', 'Caballo'}\n",
    "\n",
    "for word in words:\n",
    "    if word in dictionary:\n",
    "        print(word + \"->\" + dictionary[word])\n",
    "    else:\n",
    "        print(word + \"No esta en el diccionario\")"
   ]
  },
  {
   "cell_type": "markdown",
   "metadata": {},
   "source": [
    "### El método keys()\n",
    "\n",
    "¿Pueden los diccionarios ser examinados utilizando el bucle for, como las listas o tuplas?\n",
    "\n",
    "No y si.\n",
    "\n",
    "No, porque un diccionario no es un tipo de dato secuencial - el bucle for no es útil aquí.\n",
    "\n",
    "Si, porque hay herramientas simples y muy efectivas que pueden adaptar cualquier diccionario a los requerimientos del bucle for (en otras palabras, se construye un enlace intermedio entre el diccionario y una entidad secuencial temporal).\n",
    "\n",
    "El primero de ellos es un método denominado keys(), el cual es parte de todo diccionario. El método retorna o regresa una lista de todas las claves dentro del diccionario. Al tener una lista de claves se puede acceder a todo el diccionario de una manera fácil y útil.\n",
    "\n",
    "A continuación se muestra un ejemplo:"
   ]
  },
  {
   "cell_type": "code",
   "execution_count": 11,
   "metadata": {},
   "outputs": [
    {
     "name": "stdout",
     "output_type": "stream",
     "text": [
      "Gato -> chat\n",
      "Perro -> chien\n",
      "Caballo -> Cheval\n",
      "Burro -> Filemon\n"
     ]
    }
   ],
   "source": [
    "dicti = {'Gato': 'chat', 'Perro': 'chien', 'Caballo': 'Cheval', 'Burro': 'Filemon'}\n",
    "\n",
    "for key, valor in dicti.items():\n",
    "        print(key + \" -> \" + valor)"
   ]
  },
  {
   "cell_type": "markdown",
   "metadata": {},
   "source": [
    "### Modificar, agregar y eliminar valores\n",
    "\n",
    "El asignar un nuevo valor a una clave existente es sencillo - debido a que los diccionarios son completamente mutables, no existen obstáculos para modificarlos.\n",
    "\n",
    "Se va a reemplazar el valor \"chat\" por \"minou\", lo cual no es muy adecuado, pero funcionará con nuestro ejemplo.\n",
    "\n",
    "Observa:"
   ]
  },
  {
   "cell_type": "code",
   "execution_count": 12,
   "metadata": {},
   "outputs": [
    {
     "name": "stdout",
     "output_type": "stream",
     "text": [
      "{'Gato': 'minou', 'Perro': 'chien', 'Caballo': 'Cheval', 'Burro': 'Filemon'}\n"
     ]
    }
   ],
   "source": [
    "dictionary2 = {'Gato': 'chat', 'Perro': 'chien', 'Caballo': 'Cheval', 'Burro': 'Filemon'}\n",
    "dictionary2['Gato'] = 'minou'\n",
    "print(dictionary2)"
   ]
  },
  {
   "cell_type": "markdown",
   "metadata": {},
   "source": [
    "### La función sorted()\n",
    "\n",
    "¿Deseas que la salida este ordenada? Solo hay que agregar al bucle for lo siguiente:"
   ]
  },
  {
   "cell_type": "code",
   "execution_count": 14,
   "metadata": {},
   "outputs": [
    {
     "name": "stdout",
     "output_type": "stream",
     "text": [
      "[23, 6, 5, 4, 3, 1]\n"
     ]
    }
   ],
   "source": [
    "lista = [4,1,5,23,6,3]\n",
    "lista_ordenada = sorted (lista, reverse=True)\n",
    "print(lista_ordenada)"
   ]
  },
  {
   "cell_type": "code",
   "execution_count": 15,
   "metadata": {},
   "outputs": [
    {
     "name": "stdout",
     "output_type": "stream",
     "text": [
      "Diccionario ordenado por claves {'cat': 'gato', 'dog': 'perro', 'fish': 'pez', 'horse': 'caballo'}\n"
     ]
    }
   ],
   "source": [
    "dict_nuevo = {\n",
    "    'cat':'gato',\n",
    "    'dog':'perro',\n",
    "    'horse':'caballo',\n",
    "    'fish':'pez'\n",
    "}\n",
    "diccionario_ordenado_clave = dict(sorted(dict_nuevo.items(),reverse=False))\n",
    "print('Diccionario ordenado por claves', diccionario_ordenado_clave)"
   ]
  },
  {
   "cell_type": "code",
   "execution_count": 16,
   "metadata": {},
   "outputs": [
    {
     "name": "stdout",
     "output_type": "stream",
     "text": [
      "Diccionario ordenado por claves ['cat', 'dog', 'fish', 'horse']\n"
     ]
    }
   ],
   "source": [
    "claves_ordenadas = sorted(dict_nuevo.keys(), reverse=False)\n",
    "print('Diccionario ordenado por claves', claves_ordenadas)"
   ]
  },
  {
   "cell_type": "code",
   "execution_count": 17,
   "metadata": {},
   "outputs": [
    {
     "name": "stdout",
     "output_type": "stream",
     "text": [
      "Diccionario ordenado por claves ['horse', 'fish', 'dog', 'cat']\n"
     ]
    }
   ],
   "source": [
    "claves_ordenadas = sorted(dict_nuevo.keys(), reverse=True)\n",
    "print('Diccionario ordenado por claves', claves_ordenadas)"
   ]
  },
  {
   "cell_type": "markdown",
   "metadata": {},
   "source": [
    "### Agregando nuevas claves\n",
    "\n",
    "El agregar una nueva clave con su valor a un diccionario es tan simple como cambiar un valor. Solo se tiene que asignar un valor a una nueva clave que no haya existido antes.\n",
    "\n",
    "Nota: este es un comportamiento muy diferente comparado a las listas, las cuales no permiten asignar valores a índices no existentes.\n",
    "\n",
    "A continuación se agrega un par nuevo al diccionario - un poco extraño pero válido:"
   ]
  },
  {
   "cell_type": "code",
   "execution_count": 18,
   "metadata": {},
   "outputs": [
    {
     "name": "stdout",
     "output_type": "stream",
     "text": [
      "{'cat': 'gato', 'dog': 'perro', 'horse': 'caballo', 'fish': 'pez', 'Pig': 'Cochino'}\n"
     ]
    }
   ],
   "source": [
    "dict_ingles_espanol = {\n",
    "    'cat':'gato',\n",
    "    'dog':'perro',\n",
    "    'horse':'caballo',\n",
    "    'fish':'pez'\n",
    "}\n",
    "dict_ingles_espanol['Pig'] = 'Cochino'\n",
    "print(dict_ingles_espanol)"
   ]
  },
  {
   "cell_type": "markdown",
   "metadata": {},
   "source": [
    "<span style=\"background-color: orange; border-radius: 5px; padding: 2px 2px; color:black;\">Nota</span>\n",
    "\n",
    "También es posible insertar un elemento al diccionario utilizando el método update(), por ejemplo:"
   ]
  },
  {
   "cell_type": "code",
   "execution_count": 19,
   "metadata": {},
   "outputs": [
    {
     "name": "stdout",
     "output_type": "stream",
     "text": [
      "{'cat': 'gato', 'dog': 'perro', 'horse': 'caballo', 'fish': 'pez', 'Pig': 'Cochino', 'turkey': 'Totol'}\n"
     ]
    }
   ],
   "source": [
    "dict_ingles_espanol.update({'turkey':'Totol'})\n",
    "print(dict_ingles_espanol)"
   ]
  },
  {
   "cell_type": "markdown",
   "metadata": {},
   "source": [
    "### Eliminado una clave\n",
    "\n",
    "¿Puedes deducir como eliminar una clave de un diccionario?\n",
    "\n",
    "Nota: al eliminar la clave también se removerá el valor asociado. Los valores no pueden existir sin sus claves.\n",
    "\n",
    "Esto se logra con la instrucción del.\n",
    "\n",
    "A continuación un ejemplo:"
   ]
  },
  {
   "cell_type": "code",
   "execution_count": 21,
   "metadata": {},
   "outputs": [
    {
     "name": "stdout",
     "output_type": "stream",
     "text": [
      "{'dog': 'perro', 'horse': 'caballo', 'fish': 'pez'}\n"
     ]
    }
   ],
   "source": [
    "dict_ingles_espanol = {\n",
    "    'cat':'gato',\n",
    "    'dog':'perro',\n",
    "    'horse':'caballo',\n",
    "    'fish':'pez'\n",
    "}\n",
    "\n",
    "del dict_ingles_espanol['cat']\n",
    "print(dict_ingles_espanol)"
   ]
  },
  {
   "cell_type": "markdown",
   "metadata": {},
   "source": [
    "Para eliminar el ultimo elemento de la lista, se puede emplear el método popitem():\n"
   ]
  },
  {
   "cell_type": "code",
   "execution_count": 22,
   "metadata": {},
   "outputs": [
    {
     "name": "stdout",
     "output_type": "stream",
     "text": [
      "{'cat': 'gato', 'dog': 'perro', 'horse': 'caballo'}\n"
     ]
    }
   ],
   "source": [
    "dict_ingles_espanol = {\n",
    "    'cat':'gato',\n",
    "    'dog':'perro',\n",
    "    'horse':'caballo',\n",
    "    'fish':'pez'\n",
    "}\n",
    "\n",
    "dict_ingles_espanol.popitem()\n",
    "print(dict_ingles_espanol)"
   ]
  },
  {
   "cell_type": "code",
   "execution_count": null,
   "metadata": {},
   "outputs": [],
   "source": []
  }
 ],
 "metadata": {
  "kernelspec": {
   "display_name": "Python 3",
   "language": "python",
   "name": "python3"
  },
  "language_info": {
   "codemirror_mode": {
    "name": "ipython",
    "version": 3
   },
   "file_extension": ".py",
   "mimetype": "text/x-python",
   "name": "python",
   "nbconvert_exporter": "python",
   "pygments_lexer": "ipython3",
   "version": "3.12.3"
  }
 },
 "nbformat": 4,
 "nbformat_minor": 2
}
